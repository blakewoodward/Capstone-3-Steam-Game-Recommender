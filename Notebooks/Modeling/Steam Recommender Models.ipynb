{
 "cells": [
  {
   "cell_type": "code",
   "execution_count": 398,
   "id": "0d9944d5",
   "metadata": {},
   "outputs": [],
   "source": [
    "import pandas as pd\n",
    "import numpy as np\n",
    "from sklearn.metrics import mean_squared_error, roc_auc_score, auc\n",
    "from sklearn.neighbors import KNeighborsRegressor, KNeighborsClassifier\n",
    "from sklearn.metrics.pairwise import cosine_similarity, euclidean_distances\n",
    "from scipy.sparse.linalg import svds\n",
    "import matplotlib.pyplot as plt\n",
    "import seaborn as sns\n",
    "from itertools import product\n",
    "import random\n",
    "sns.set()\n",
    "random.seed(42)\n",
    "np.random.seed(42)\n",
    "pd.set_option('chained_assignment', None)"
   ]
  },
  {
   "cell_type": "markdown",
   "id": "89b32615",
   "metadata": {},
   "source": [
    "### Memory Based Collaborative Filtering by Similarity Matrix (Model Baseline)"
   ]
  },
  {
   "cell_type": "code",
   "execution_count": 399,
   "id": "e3eba1be",
   "metadata": {},
   "outputs": [
    {
     "data": {
      "text/plain": [
       "(59458, 388)"
      ]
     },
     "execution_count": 399,
     "metadata": {},
     "output_type": "execute_result"
    }
   ],
   "source": [
    "dfFull = pd.read_csv(r\"C:\\Users\\blake\\Documents\\Springboard\\Github\\Capstone3\\Data\\ContentMatrix2.csv\", index_col=0)\n",
    "dfFull.shape"
   ]
  },
  {
   "cell_type": "code",
   "execution_count": 400,
   "id": "a241e141",
   "metadata": {
    "scrolled": true
   },
   "outputs": [
    {
     "data": {
      "text/html": [
       "<div>\n",
       "<style scoped>\n",
       "    .dataframe tbody tr th:only-of-type {\n",
       "        vertical-align: middle;\n",
       "    }\n",
       "\n",
       "    .dataframe tbody tr th {\n",
       "        vertical-align: top;\n",
       "    }\n",
       "\n",
       "    .dataframe thead th {\n",
       "        text-align: right;\n",
       "    }\n",
       "</style>\n",
       "<table border=\"1\" class=\"dataframe\">\n",
       "  <thead>\n",
       "    <tr style=\"text-align: right;\">\n",
       "      <th></th>\n",
       "      <th>userID</th>\n",
       "      <th>gameName</th>\n",
       "      <th>playHours</th>\n",
       "      <th>rating</th>\n",
       "      <th>appid</th>\n",
       "      <th>developer</th>\n",
       "      <th>publisher</th>\n",
       "      <th>1980s</th>\n",
       "      <th>1990's</th>\n",
       "      <th>2.5D</th>\n",
       "      <th>...</th>\n",
       "      <th>Snow</th>\n",
       "      <th>Snowboarding</th>\n",
       "      <th>Social Deduction</th>\n",
       "      <th>Video Production</th>\n",
       "      <th>Vikings</th>\n",
       "      <th>Warhammer 40K</th>\n",
       "      <th>Werewolves</th>\n",
       "      <th>Bikes</th>\n",
       "      <th>Card Battler</th>\n",
       "      <th>Deckbuilding</th>\n",
       "    </tr>\n",
       "  </thead>\n",
       "  <tbody>\n",
       "    <tr>\n",
       "      <th>0</th>\n",
       "      <td>48028873</td>\n",
       "      <td>100% orange juice</td>\n",
       "      <td>1.8</td>\n",
       "      <td>4.0</td>\n",
       "      <td>282800.0</td>\n",
       "      <td>Orange_Juice</td>\n",
       "      <td>Fruitbat Factory</td>\n",
       "      <td>0.0</td>\n",
       "      <td>0.0</td>\n",
       "      <td>0</td>\n",
       "      <td>...</td>\n",
       "      <td>NaN</td>\n",
       "      <td>NaN</td>\n",
       "      <td>NaN</td>\n",
       "      <td>NaN</td>\n",
       "      <td>NaN</td>\n",
       "      <td>NaN</td>\n",
       "      <td>NaN</td>\n",
       "      <td>NaN</td>\n",
       "      <td>NaN</td>\n",
       "      <td>NaN</td>\n",
       "    </tr>\n",
       "    <tr>\n",
       "      <th>1</th>\n",
       "      <td>88525821</td>\n",
       "      <td>100% orange juice</td>\n",
       "      <td>0.9</td>\n",
       "      <td>2.0</td>\n",
       "      <td>282800.0</td>\n",
       "      <td>Orange_Juice</td>\n",
       "      <td>Fruitbat Factory</td>\n",
       "      <td>0.0</td>\n",
       "      <td>0.0</td>\n",
       "      <td>0</td>\n",
       "      <td>...</td>\n",
       "      <td>NaN</td>\n",
       "      <td>NaN</td>\n",
       "      <td>NaN</td>\n",
       "      <td>NaN</td>\n",
       "      <td>NaN</td>\n",
       "      <td>NaN</td>\n",
       "      <td>NaN</td>\n",
       "      <td>NaN</td>\n",
       "      <td>NaN</td>\n",
       "      <td>NaN</td>\n",
       "    </tr>\n",
       "    <tr>\n",
       "      <th>2</th>\n",
       "      <td>93644606</td>\n",
       "      <td>100% orange juice</td>\n",
       "      <td>3.1</td>\n",
       "      <td>4.0</td>\n",
       "      <td>282800.0</td>\n",
       "      <td>Orange_Juice</td>\n",
       "      <td>Fruitbat Factory</td>\n",
       "      <td>0.0</td>\n",
       "      <td>0.0</td>\n",
       "      <td>0</td>\n",
       "      <td>...</td>\n",
       "      <td>NaN</td>\n",
       "      <td>NaN</td>\n",
       "      <td>NaN</td>\n",
       "      <td>NaN</td>\n",
       "      <td>NaN</td>\n",
       "      <td>NaN</td>\n",
       "      <td>NaN</td>\n",
       "      <td>NaN</td>\n",
       "      <td>NaN</td>\n",
       "      <td>NaN</td>\n",
       "    </tr>\n",
       "    <tr>\n",
       "      <th>3</th>\n",
       "      <td>115996656</td>\n",
       "      <td>100% orange juice</td>\n",
       "      <td>2.5</td>\n",
       "      <td>5.0</td>\n",
       "      <td>282800.0</td>\n",
       "      <td>Orange_Juice</td>\n",
       "      <td>Fruitbat Factory</td>\n",
       "      <td>0.0</td>\n",
       "      <td>0.0</td>\n",
       "      <td>0</td>\n",
       "      <td>...</td>\n",
       "      <td>NaN</td>\n",
       "      <td>NaN</td>\n",
       "      <td>NaN</td>\n",
       "      <td>NaN</td>\n",
       "      <td>NaN</td>\n",
       "      <td>NaN</td>\n",
       "      <td>NaN</td>\n",
       "      <td>NaN</td>\n",
       "      <td>NaN</td>\n",
       "      <td>NaN</td>\n",
       "    </tr>\n",
       "    <tr>\n",
       "      <th>4</th>\n",
       "      <td>125017535</td>\n",
       "      <td>100% orange juice</td>\n",
       "      <td>0.7</td>\n",
       "      <td>3.0</td>\n",
       "      <td>282800.0</td>\n",
       "      <td>Orange_Juice</td>\n",
       "      <td>Fruitbat Factory</td>\n",
       "      <td>0.0</td>\n",
       "      <td>0.0</td>\n",
       "      <td>0</td>\n",
       "      <td>...</td>\n",
       "      <td>NaN</td>\n",
       "      <td>NaN</td>\n",
       "      <td>NaN</td>\n",
       "      <td>NaN</td>\n",
       "      <td>NaN</td>\n",
       "      <td>NaN</td>\n",
       "      <td>NaN</td>\n",
       "      <td>NaN</td>\n",
       "      <td>NaN</td>\n",
       "      <td>NaN</td>\n",
       "    </tr>\n",
       "  </tbody>\n",
       "</table>\n",
       "<p>5 rows × 388 columns</p>\n",
       "</div>"
      ],
      "text/plain": [
       "      userID           gameName  playHours  rating     appid     developer  \\\n",
       "0   48028873  100% orange juice        1.8     4.0  282800.0  Orange_Juice   \n",
       "1   88525821  100% orange juice        0.9     2.0  282800.0  Orange_Juice   \n",
       "2   93644606  100% orange juice        3.1     4.0  282800.0  Orange_Juice   \n",
       "3  115996656  100% orange juice        2.5     5.0  282800.0  Orange_Juice   \n",
       "4  125017535  100% orange juice        0.7     3.0  282800.0  Orange_Juice   \n",
       "\n",
       "          publisher  1980s  1990's  2.5D  ...  Snow  Snowboarding  \\\n",
       "0  Fruitbat Factory    0.0     0.0     0  ...   NaN           NaN   \n",
       "1  Fruitbat Factory    0.0     0.0     0  ...   NaN           NaN   \n",
       "2  Fruitbat Factory    0.0     0.0     0  ...   NaN           NaN   \n",
       "3  Fruitbat Factory    0.0     0.0     0  ...   NaN           NaN   \n",
       "4  Fruitbat Factory    0.0     0.0     0  ...   NaN           NaN   \n",
       "\n",
       "   Social Deduction  Video Production  Vikings  Warhammer 40K  Werewolves  \\\n",
       "0               NaN               NaN      NaN            NaN         NaN   \n",
       "1               NaN               NaN      NaN            NaN         NaN   \n",
       "2               NaN               NaN      NaN            NaN         NaN   \n",
       "3               NaN               NaN      NaN            NaN         NaN   \n",
       "4               NaN               NaN      NaN            NaN         NaN   \n",
       "\n",
       "   Bikes  Card Battler  Deckbuilding  \n",
       "0    NaN           NaN           NaN  \n",
       "1    NaN           NaN           NaN  \n",
       "2    NaN           NaN           NaN  \n",
       "3    NaN           NaN           NaN  \n",
       "4    NaN           NaN           NaN  \n",
       "\n",
       "[5 rows x 388 columns]"
      ]
     },
     "execution_count": 400,
     "metadata": {},
     "output_type": "execute_result"
    }
   ],
   "source": [
    "dfFull.head()"
   ]
  },
  {
   "cell_type": "markdown",
   "id": "89d9e05f",
   "metadata": {},
   "source": [
    "Convert Data into user-item interaction matrix"
   ]
  },
  {
   "cell_type": "code",
   "execution_count": 401,
   "id": "011167f8",
   "metadata": {
    "scrolled": true
   },
   "outputs": [
    {
     "data": {
      "text/html": [
       "<div>\n",
       "<style scoped>\n",
       "    .dataframe tbody tr th:only-of-type {\n",
       "        vertical-align: middle;\n",
       "    }\n",
       "\n",
       "    .dataframe tbody tr th {\n",
       "        vertical-align: top;\n",
       "    }\n",
       "\n",
       "    .dataframe thead th {\n",
       "        text-align: right;\n",
       "    }\n",
       "</style>\n",
       "<table border=\"1\" class=\"dataframe\">\n",
       "  <thead>\n",
       "    <tr style=\"text-align: right;\">\n",
       "      <th>gameName</th>\n",
       "      <th>100% orange juice</th>\n",
       "      <th>7 days to die</th>\n",
       "      <th>8bitmmo</th>\n",
       "      <th>a story about my uncle</th>\n",
       "      <th>ace of spades</th>\n",
       "      <th>adventure capitalist</th>\n",
       "      <th>afterfall insanity extended edition</th>\n",
       "      <th>aftermath</th>\n",
       "      <th>age of chivalry</th>\n",
       "      <th>age of empires iii complete collection</th>\n",
       "      <th>...</th>\n",
       "      <th>watch_dogs</th>\n",
       "      <th>wolfenstein the new order</th>\n",
       "      <th>wolfenstein the old blood</th>\n",
       "      <th>world of goo</th>\n",
       "      <th>world of guns gun disassembly</th>\n",
       "      <th>worms armageddon</th>\n",
       "      <th>worms reloaded</th>\n",
       "      <th>worms revolution</th>\n",
       "      <th>xcom enemy unknown</th>\n",
       "      <th>yet another zombie defense</th>\n",
       "    </tr>\n",
       "    <tr>\n",
       "      <th>userID</th>\n",
       "      <th></th>\n",
       "      <th></th>\n",
       "      <th></th>\n",
       "      <th></th>\n",
       "      <th></th>\n",
       "      <th></th>\n",
       "      <th></th>\n",
       "      <th></th>\n",
       "      <th></th>\n",
       "      <th></th>\n",
       "      <th></th>\n",
       "      <th></th>\n",
       "      <th></th>\n",
       "      <th></th>\n",
       "      <th></th>\n",
       "      <th></th>\n",
       "      <th></th>\n",
       "      <th></th>\n",
       "      <th></th>\n",
       "      <th></th>\n",
       "      <th></th>\n",
       "    </tr>\n",
       "  </thead>\n",
       "  <tbody>\n",
       "    <tr>\n",
       "      <th>298950</th>\n",
       "      <td>NaN</td>\n",
       "      <td>3.0</td>\n",
       "      <td>NaN</td>\n",
       "      <td>NaN</td>\n",
       "      <td>NaN</td>\n",
       "      <td>NaN</td>\n",
       "      <td>NaN</td>\n",
       "      <td>NaN</td>\n",
       "      <td>NaN</td>\n",
       "      <td>1.0</td>\n",
       "      <td>...</td>\n",
       "      <td>NaN</td>\n",
       "      <td>NaN</td>\n",
       "      <td>NaN</td>\n",
       "      <td>NaN</td>\n",
       "      <td>NaN</td>\n",
       "      <td>NaN</td>\n",
       "      <td>NaN</td>\n",
       "      <td>NaN</td>\n",
       "      <td>4.0</td>\n",
       "      <td>NaN</td>\n",
       "    </tr>\n",
       "    <tr>\n",
       "      <th>561758</th>\n",
       "      <td>NaN</td>\n",
       "      <td>NaN</td>\n",
       "      <td>NaN</td>\n",
       "      <td>NaN</td>\n",
       "      <td>NaN</td>\n",
       "      <td>NaN</td>\n",
       "      <td>NaN</td>\n",
       "      <td>NaN</td>\n",
       "      <td>NaN</td>\n",
       "      <td>NaN</td>\n",
       "      <td>...</td>\n",
       "      <td>NaN</td>\n",
       "      <td>NaN</td>\n",
       "      <td>NaN</td>\n",
       "      <td>NaN</td>\n",
       "      <td>NaN</td>\n",
       "      <td>NaN</td>\n",
       "      <td>NaN</td>\n",
       "      <td>NaN</td>\n",
       "      <td>NaN</td>\n",
       "      <td>NaN</td>\n",
       "    </tr>\n",
       "    <tr>\n",
       "      <th>975449</th>\n",
       "      <td>NaN</td>\n",
       "      <td>NaN</td>\n",
       "      <td>NaN</td>\n",
       "      <td>NaN</td>\n",
       "      <td>NaN</td>\n",
       "      <td>NaN</td>\n",
       "      <td>NaN</td>\n",
       "      <td>NaN</td>\n",
       "      <td>2.0</td>\n",
       "      <td>NaN</td>\n",
       "      <td>...</td>\n",
       "      <td>NaN</td>\n",
       "      <td>NaN</td>\n",
       "      <td>NaN</td>\n",
       "      <td>2.0</td>\n",
       "      <td>NaN</td>\n",
       "      <td>NaN</td>\n",
       "      <td>NaN</td>\n",
       "      <td>NaN</td>\n",
       "      <td>5.0</td>\n",
       "      <td>NaN</td>\n",
       "    </tr>\n",
       "    <tr>\n",
       "      <th>1936551</th>\n",
       "      <td>NaN</td>\n",
       "      <td>NaN</td>\n",
       "      <td>NaN</td>\n",
       "      <td>NaN</td>\n",
       "      <td>NaN</td>\n",
       "      <td>NaN</td>\n",
       "      <td>NaN</td>\n",
       "      <td>NaN</td>\n",
       "      <td>NaN</td>\n",
       "      <td>NaN</td>\n",
       "      <td>...</td>\n",
       "      <td>NaN</td>\n",
       "      <td>NaN</td>\n",
       "      <td>NaN</td>\n",
       "      <td>5.0</td>\n",
       "      <td>NaN</td>\n",
       "      <td>NaN</td>\n",
       "      <td>2.0</td>\n",
       "      <td>NaN</td>\n",
       "      <td>NaN</td>\n",
       "      <td>NaN</td>\n",
       "    </tr>\n",
       "    <tr>\n",
       "      <th>1950243</th>\n",
       "      <td>NaN</td>\n",
       "      <td>NaN</td>\n",
       "      <td>NaN</td>\n",
       "      <td>NaN</td>\n",
       "      <td>NaN</td>\n",
       "      <td>NaN</td>\n",
       "      <td>NaN</td>\n",
       "      <td>NaN</td>\n",
       "      <td>NaN</td>\n",
       "      <td>NaN</td>\n",
       "      <td>...</td>\n",
       "      <td>NaN</td>\n",
       "      <td>NaN</td>\n",
       "      <td>NaN</td>\n",
       "      <td>NaN</td>\n",
       "      <td>NaN</td>\n",
       "      <td>NaN</td>\n",
       "      <td>NaN</td>\n",
       "      <td>NaN</td>\n",
       "      <td>NaN</td>\n",
       "      <td>NaN</td>\n",
       "    </tr>\n",
       "  </tbody>\n",
       "</table>\n",
       "<p>5 rows × 613 columns</p>\n",
       "</div>"
      ],
      "text/plain": [
       "gameName  100% orange juice  7 days to die  8bitmmo  a story about my uncle  \\\n",
       "userID                                                                        \n",
       "298950                  NaN            3.0      NaN                     NaN   \n",
       "561758                  NaN            NaN      NaN                     NaN   \n",
       "975449                  NaN            NaN      NaN                     NaN   \n",
       "1936551                 NaN            NaN      NaN                     NaN   \n",
       "1950243                 NaN            NaN      NaN                     NaN   \n",
       "\n",
       "gameName  ace of spades  adventure capitalist  \\\n",
       "userID                                          \n",
       "298950              NaN                   NaN   \n",
       "561758              NaN                   NaN   \n",
       "975449              NaN                   NaN   \n",
       "1936551             NaN                   NaN   \n",
       "1950243             NaN                   NaN   \n",
       "\n",
       "gameName  afterfall insanity extended edition  aftermath  age of chivalry  \\\n",
       "userID                                                                      \n",
       "298950                                    NaN        NaN              NaN   \n",
       "561758                                    NaN        NaN              NaN   \n",
       "975449                                    NaN        NaN              2.0   \n",
       "1936551                                   NaN        NaN              NaN   \n",
       "1950243                                   NaN        NaN              NaN   \n",
       "\n",
       "gameName  age of empires iii complete collection  ...  watch_dogs  \\\n",
       "userID                                            ...               \n",
       "298950                                       1.0  ...         NaN   \n",
       "561758                                       NaN  ...         NaN   \n",
       "975449                                       NaN  ...         NaN   \n",
       "1936551                                      NaN  ...         NaN   \n",
       "1950243                                      NaN  ...         NaN   \n",
       "\n",
       "gameName  wolfenstein the new order  wolfenstein the old blood   world of goo  \\\n",
       "userID                                                                          \n",
       "298950                          NaN                         NaN           NaN   \n",
       "561758                          NaN                         NaN           NaN   \n",
       "975449                          NaN                         NaN           2.0   \n",
       "1936551                         NaN                         NaN           5.0   \n",
       "1950243                         NaN                         NaN           NaN   \n",
       "\n",
       "gameName  world of guns gun disassembly  worms armageddon  worms reloaded  \\\n",
       "userID                                                                      \n",
       "298950                              NaN               NaN             NaN   \n",
       "561758                              NaN               NaN             NaN   \n",
       "975449                              NaN               NaN             NaN   \n",
       "1936551                             NaN               NaN             2.0   \n",
       "1950243                             NaN               NaN             NaN   \n",
       "\n",
       "gameName  worms revolution  xcom enemy unknown  yet another zombie defense  \n",
       "userID                                                                      \n",
       "298950                 NaN                 4.0                         NaN  \n",
       "561758                 NaN                 NaN                         NaN  \n",
       "975449                 NaN                 5.0                         NaN  \n",
       "1936551                NaN                 NaN                         NaN  \n",
       "1950243                NaN                 NaN                         NaN  \n",
       "\n",
       "[5 rows x 613 columns]"
      ]
     },
     "execution_count": 401,
     "metadata": {},
     "output_type": "execute_result"
    }
   ],
   "source": [
    "reducedMatrix = dfFull.pivot(index='userID', columns='gameName', values='rating')\n",
    "reducedMatrix.head()"
   ]
  },
  {
   "cell_type": "markdown",
   "id": "82f981f5",
   "metadata": {},
   "source": [
    "Examine matrix sparcity. Roughly 10% of the cells are filled which is pretty good."
   ]
  },
  {
   "cell_type": "code",
   "execution_count": 402,
   "id": "bf6b757a",
   "metadata": {},
   "outputs": [
    {
     "name": "stdout",
     "output_type": "stream",
     "text": [
      "Matrix Sparcity: 0.8944558149772698\n"
     ]
    }
   ],
   "source": [
    "print(\"Matrix Sparcity:\", reducedMatrix.isna().values.sum() / reducedMatrix.size)"
   ]
  },
  {
   "cell_type": "code",
   "execution_count": 403,
   "id": "e9dc62b3",
   "metadata": {},
   "outputs": [
    {
     "data": {
      "text/plain": [
       "((919, 613), 563347)"
      ]
     },
     "execution_count": 403,
     "metadata": {},
     "output_type": "execute_result"
    }
   ],
   "source": [
    "reducedMatrix.shape, reducedMatrix.size"
   ]
  },
  {
   "cell_type": "code",
   "execution_count": 404,
   "id": "fed0d169",
   "metadata": {},
   "outputs": [
    {
     "data": {
      "text/plain": [
       "0.10554418502273022"
      ]
     },
     "execution_count": 404,
     "metadata": {},
     "output_type": "execute_result"
    }
   ],
   "source": [
    "reducedMatrix.notnull().values.sum() / reducedMatrix.size"
   ]
  },
  {
   "cell_type": "markdown",
   "id": "b07b7529",
   "metadata": {},
   "source": [
    "By reducing the size of the matrix, modeling will be faster, and sparcity will be reduced"
   ]
  },
  {
   "cell_type": "markdown",
   "id": "b9e6645e",
   "metadata": {},
   "source": [
    "#### Split Reduced Data into Train and Test\n",
    "Randomly select 20% of each user's ratings and put them in the test set."
   ]
  },
  {
   "cell_type": "code",
   "execution_count": 405,
   "id": "9d7fda81",
   "metadata": {},
   "outputs": [
    {
     "data": {
      "text/plain": [
       "((919,), (613,))"
      ]
     },
     "execution_count": 405,
     "metadata": {},
     "output_type": "execute_result"
    }
   ],
   "source": [
    "# Reduce dfFull to only records that can be found in the reduced matrix\n",
    "dfReduced = dfFull.loc[(dfFull.userID.isin(reducedMatrix.index) & (dfFull.gameName.isin(reducedMatrix.columns)))]\n",
    "dfReduced.userID.unique().shape, dfReduced.gameName.unique().shape"
   ]
  },
  {
   "cell_type": "code",
   "execution_count": 406,
   "id": "e4920385",
   "metadata": {},
   "outputs": [],
   "source": [
    "def train_test(users, df):\n",
    "    '''\n",
    "    For each user in reduced df, set the column value for train-test to \"test\" for a random selection of 20% of their entries\n",
    "    if rand is True.\n",
    "    '''\n",
    "    \n",
    "    # Create a new column in the df and set all values to train\n",
    "    df['split'] = 'train'\n",
    "    \n",
    "    for i in users:\n",
    "        # For each user in the list of unique users, create a df of all their ratings, and an array of thier indicies\n",
    "        userDf = df.loc[df.userID==i]\n",
    "        userInds = userDf.index.values\n",
    "        size = round(len(userInds)*0.2)\n",
    "        \n",
    "        testInds = np.random.choice(userInds, size=size, replace=False)       \n",
    "        userDf.loc[userDf.index.isin(testInds), 'split'] = 'test'\n",
    "        df.loc[df.userID==i] = userDf\n",
    "\n",
    "    \n",
    "    return df"
   ]
  },
  {
   "cell_type": "code",
   "execution_count": 407,
   "id": "44307da8",
   "metadata": {},
   "outputs": [
    {
     "name": "stdout",
     "output_type": "stream",
     "text": [
      "Wall time: 44.3 s\n"
     ]
    }
   ],
   "source": [
    "%%time\n",
    "users = dfReduced.userID.unique()\n",
    "dfReduced = train_test(users, dfReduced)"
   ]
  },
  {
   "cell_type": "code",
   "execution_count": 408,
   "id": "5606250b",
   "metadata": {},
   "outputs": [
    {
     "data": {
      "text/plain": [
       "((59458, 389), (11886, 389))"
      ]
     },
     "execution_count": 408,
     "metadata": {},
     "output_type": "execute_result"
    }
   ],
   "source": [
    "dfReduced.shape, dfReduced.loc[dfReduced.split=='test'].shape"
   ]
  },
  {
   "cell_type": "code",
   "execution_count": 409,
   "id": "9ff16f5a",
   "metadata": {},
   "outputs": [],
   "source": [
    "UserTrain = dfReduced.loc[dfReduced.split=='train'].pivot(index='userID', columns='gameName', values='rating')\n",
    "UserTest = dfReduced.loc[dfReduced.split=='test'].pivot(index='userID', columns='gameName', values='rating')\n",
    "\n",
    "ItemTrain = UserTrain.T\n",
    "ItemTest = UserTest.T"
   ]
  },
  {
   "cell_type": "code",
   "execution_count": 410,
   "id": "bd189a62",
   "metadata": {},
   "outputs": [
    {
     "data": {
      "text/plain": [
       "((919, 613), (919, 611))"
      ]
     },
     "execution_count": 410,
     "metadata": {},
     "output_type": "execute_result"
    }
   ],
   "source": [
    "UserTrain.shape, UserTest.shape"
   ]
  },
  {
   "cell_type": "code",
   "execution_count": 411,
   "id": "fe1daaca",
   "metadata": {},
   "outputs": [
    {
     "data": {
      "text/plain": [
       "set()"
      ]
     },
     "execution_count": 411,
     "metadata": {},
     "output_type": "execute_result"
    }
   ],
   "source": [
    "a = set(UserTrain.columns.values)\n",
    "b = set(UserTest.columns.values)\n",
    "b.difference(a)"
   ]
  },
  {
   "cell_type": "code",
   "execution_count": 412,
   "id": "cbd4b239",
   "metadata": {},
   "outputs": [],
   "source": [
    "UserTest.drop(columns=b.difference(a), inplace=True)"
   ]
  },
  {
   "cell_type": "markdown",
   "id": "cc639419",
   "metadata": {},
   "source": [
    "Needed to check if there were any item columns in UserTest not present in UserTrain. Luckely there are not."
   ]
  },
  {
   "cell_type": "markdown",
   "id": "43a31941",
   "metadata": {},
   "source": [
    "##### Zero Center Data function"
   ]
  },
  {
   "cell_type": "code",
   "execution_count": 413,
   "id": "6beecf3b",
   "metadata": {},
   "outputs": [],
   "source": [
    "def zero_center_svd(df, get_means=False, svd=False):\n",
    "    '''Centers a df's rows around zero. Also performs SVD if needed'''\n",
    "    output = []\n",
    "    means = df.mean(axis=1)\n",
    "    means.fillna(value=0, inplace=True)\n",
    "    \n",
    "    centeredDf = df.sub(means, axis=0)\n",
    "    centeredDf.fillna(value=0, inplace=True)\n",
    "    \n",
    "    output.append(centeredDf)\n",
    "    \n",
    "    if get_means==True:\n",
    "        output.append(means.values.reshape(-1,1))\n",
    "        \n",
    "    if svd==True:\n",
    "        U, E, Vt = svds(centeredDf)\n",
    "        E = np.diag(E)\n",
    "        M = np.dot(np.dot(U, E), Vt)\n",
    "        \n",
    "        svdDf = M + means.values.reshape(-1,1)\n",
    "        svdDf = pd.DataFrame(svdDf, index=df.index, columns=df.columns)\n",
    "        \n",
    "        output.append(svdDf)\n",
    "        \n",
    "    return output"
   ]
  },
  {
   "cell_type": "markdown",
   "id": "7a7786ac",
   "metadata": {},
   "source": [
    "##### Create a function that gets a list of all index/column combinations for non nan values in a df"
   ]
  },
  {
   "cell_type": "code",
   "execution_count": 414,
   "id": "6909363f",
   "metadata": {},
   "outputs": [],
   "source": [
    "def validation_data(df):\n",
    "    '''Function generates a list of indix and column pairs for all non-nan values in a df'''\n",
    "    inds = []\n",
    "    \n",
    "    for i in list(df.columns):\n",
    "        col_non_nan = df.loc[~df[i].isna(), i]\n",
    "        \n",
    "        for ind in list(col_non_nan.index):\n",
    "            inds.append((ind, i))\n",
    "    \n",
    "    return inds"
   ]
  },
  {
   "cell_type": "markdown",
   "id": "38eb4209",
   "metadata": {},
   "source": [
    "##### Function that evaluates SVD"
   ]
  },
  {
   "cell_type": "code",
   "execution_count": 415,
   "id": "9e8512a4",
   "metadata": {},
   "outputs": [],
   "source": [
    "def evaluate_SVD(predicted, test, inds):\n",
    "    '''\n",
    "    Get predicted values for each (index, column) pair in list of inds. Then compare predictions with actual values.\n",
    "    '''\n",
    "    predicted = np.array([predicted.loc[u, i] for (u, i) in inds])\n",
    "    true = np.array([test.loc[u, i] for (u, i) in inds])\n",
    "        \n",
    "    return mean_squared_error(true, predicted, squared=False)"
   ]
  },
  {
   "cell_type": "markdown",
   "id": "8ac1050c",
   "metadata": {},
   "source": [
    "##### Create a Cross Validataion function\n",
    "Calls valdiation, train_test, and zero center functions, in addition to the desired model class"
   ]
  },
  {
   "cell_type": "code",
   "execution_count": 416,
   "id": "ac4a8502",
   "metadata": {},
   "outputs": [],
   "source": [
    "def five_fold_CV(train, model=None, n=10, item=False, SVD=False, SVD_params=None, knn_method=None):\n",
    "    '''\n",
    "    Five fold cross validation\n",
    "    '''\n",
    "    \n",
    "    metrics = []\n",
    "    \n",
    "    for i in range(5):\n",
    "        \n",
    "        # Call previously defined train_test function to split data for fold\n",
    "        users = train.userID.unique()\n",
    "        df = train_test(users, train)\n",
    "        \n",
    "        FoldTrain = df.loc[df.split=='train'].pivot(index='userID', columns='gameName', values='rating')\n",
    "        FoldTest = df.loc[df.split=='test'].pivot(index='userID', columns='gameName', values='rating')\n",
    "        \n",
    "        # Tanspose data if the model is Item-based\n",
    "        if item==True:\n",
    "            FoldTrain = FoldTrain.T\n",
    "            FoldTest = FoldTest.T\n",
    "        \n",
    "        # Ensure that there are no columns in the testing set not present in the training set\n",
    "        a = set(FoldTrain.columns.values)\n",
    "        b = set(FoldTest.columns.values)\n",
    "        FoldTest.drop(columns=b.difference(a), inplace=True)\n",
    "        \n",
    "        # Call previously defined validation_data function to generate list of user-item index pairs for evaluation\n",
    "        ValInds = validation_data(FoldTest)\n",
    "        # Call previously defined zero_center_svd function to get zero centered trian data\n",
    "        centeredTrain, means = zero_center_svd(FoldTrain, get_means=True)\n",
    "\n",
    "        \n",
    "        if SVD==True:\n",
    "            \n",
    "            # Generate SVD matrix\n",
    "            U, E, Vt = svds(centeredTrain, k=SVD_params[0], which=SVD_params[1], solver=SVD_params[2])\n",
    "            E = np.diag(E)\n",
    "            M = np.dot(np.dot(U, E), Vt)\n",
    "            \n",
    "            svdDf = M + means\n",
    "            svdDf = pd.DataFrame(svdDf, index=centeredTrain.index, columns=centeredTrain.columns)\n",
    "            \n",
    "            metrics.append(evaluate_SVD(svdDf, FoldTest, ValInds))\n",
    "            continue\n",
    "        \n",
    "        \n",
    "        elif model == 'CollabFilter':\n",
    "            # Create CollabFilter object, fit and evaluate\n",
    "            m = CollabFilter(centered_train=centeredTrain, raw_train=FoldTrain, test=FoldTest)\n",
    "            m.prep()\n",
    "            metrics.append(m.evaluate(ValInds, n))\n",
    "        \n",
    "        else:\n",
    "            # Create KNN_filter object, fit and evaluate\n",
    "            m = KNN_filter(raw_train=FoldTrain, centered_train=centeredTrain, test=FoldTest)\n",
    "            metrics.append(m.evaluate(ValInds, n, method=knn_method, item=item))\n",
    "            \n",
    "    return np.mean(metrics)"
   ]
  },
  {
   "cell_type": "markdown",
   "id": "4102dc63",
   "metadata": {},
   "source": [
    "##### Create a Grid Search Function\n",
    "Calls the cross validation function"
   ]
  },
  {
   "cell_type": "code",
   "execution_count": 417,
   "id": "02ab9d71",
   "metadata": {},
   "outputs": [],
   "source": [
    "def Grid_Search(train, params=None, model=None, item=False, SVD=False, SVD_params=None, knn_method='regressor'):\n",
    "    metric_results = []\n",
    "    \n",
    "    if SVD==False:\n",
    "        for i in params:\n",
    "            metric_results.append(five_fold_CV(train, model, n=i, item=item, knn_method=knn_method))\n",
    "    \n",
    "        return {'param':params, 'metric':metric_results}\n",
    "    \n",
    "    else:\n",
    "        for i in SVD_params:\n",
    "            metric_results.append(five_fold_CV(train, model, item=item, SVD=SVD, SVD_params=i))\n",
    "            \n",
    "        return {'params':SVD_params, 'metric':metric_results}"
   ]
  },
  {
   "cell_type": "markdown",
   "id": "eeeba027",
   "metadata": {},
   "source": [
    "##### Create a class for memory based collaborative filtering\n",
    "\n",
    "Basic memory based collaborative filtering. No actual model training involved. Primary purpose for creating this was to get a solid understanding of how collaborative filtering works."
   ]
  },
  {
   "cell_type": "code",
   "execution_count": 418,
   "id": "09f28250",
   "metadata": {},
   "outputs": [],
   "source": [
    "inds1 = validation_data(UserTest)\n",
    "centeredUser = zero_center_svd(UserTrain)[0]"
   ]
  },
  {
   "cell_type": "code",
   "execution_count": 419,
   "id": "56de6f2a",
   "metadata": {},
   "outputs": [],
   "source": [
    "class CollabFilter:\n",
    "    def __init__(self, centered_train=None, raw_train=None, test=None):\n",
    "        self.sim_matrix = None\n",
    "        self.centered_train = centered_train\n",
    "        self.raw_train = raw_train\n",
    "        self.test = test\n",
    "    \n",
    "    def prep(self, metric_function='cosine'):\n",
    "        '''Generate Similartiy Matrix for model'''\n",
    "        if metric_function == 'cosine':\n",
    "            self.sim_matrix = pd.DataFrame(cosine_similarity(self.centered_train), index=self.centered_train.index, columns=self.centered_train.index)\n",
    "            \n",
    "        elif metric_function == 'euclidean':\n",
    "            distances = euclidean_distances(self.centered_train)\n",
    "            d = np.full((distances.shape[0], 1), 1)\n",
    "            self.sim_matrix = pd.DataFrame((d - distances), index=self.centered_train.index, columns=self.centered_train.index)\n",
    "            \n",
    "    \n",
    "    def predict(self, u, i, n):\n",
    "        '''\n",
    "        Take row (u), column (i) and number of similar rows to aggregate (n) and return a prediction for u's rating of\n",
    "        i.\n",
    "        '''\n",
    "        # Get the user_id of all users who actually rated the target item\n",
    "        other_users = self.raw_train.loc[~self.raw_train[i].isna()].index.values\n",
    "        \n",
    "        # If there are fewer than n user ratings for i in the trainings set, then set i equal to the number of user ratings\n",
    "        # for i in the training set\n",
    "        if other_users.shape[0] < n:\n",
    "            n = other_users.shape[0]\n",
    "        \n",
    "        # Limit the columns of the similarity matrix to users who rated the target item\n",
    "        other_users = self.sim_matrix[other_users]\n",
    "        \n",
    "        # Get a sorted list of other user's similarity to the target user\n",
    "        sim_users = other_users.loc[u].sort_values(ascending=False)\n",
    "        \n",
    "        # Select the top n similar users\n",
    "        sim_users = sim_users.iloc[:n+1]\n",
    "        \n",
    "        # Predict rating of target user for item by averaging the ratings of most similar users\n",
    "        prediction = self.raw_train.loc[self.raw_train.index.isin(sim_users.index), i].mean()\n",
    "          \n",
    "        return prediction\n",
    "        \n",
    "    \n",
    "    def evaluate(self, inds, n):\n",
    "        '''\n",
    "        Get predicted values for each (index, column) pair in list of inds. Use n nearest neighbors to predict.\n",
    "        Then compare predictions with actual values.\n",
    "        '''\n",
    "        predicted = np.array([self.predict(u, i, n) for (u, i) in inds])\n",
    "        true = np.array([self.test.loc[u, i] for (u, i) in inds])\n",
    "        \n",
    "        \n",
    "        return mean_squared_error(true, predicted, squared=False)"
   ]
  },
  {
   "cell_type": "code",
   "execution_count": 420,
   "id": "79237f36",
   "metadata": {},
   "outputs": [],
   "source": [
    "GridTrain = dfReduced.loc[dfReduced.split=='train']"
   ]
  },
  {
   "cell_type": "code",
   "execution_count": 49,
   "id": "68286450",
   "metadata": {
    "scrolled": true
   },
   "outputs": [
    {
     "name": "stdout",
     "output_type": "stream",
     "text": [
      "CPU times: total: 24min 6s\n",
      "Wall time: 24min 41s\n"
     ]
    },
    {
     "data": {
      "text/html": [
       "<div>\n",
       "<style scoped>\n",
       "    .dataframe tbody tr th:only-of-type {\n",
       "        vertical-align: middle;\n",
       "    }\n",
       "\n",
       "    .dataframe tbody tr th {\n",
       "        vertical-align: top;\n",
       "    }\n",
       "\n",
       "    .dataframe thead th {\n",
       "        text-align: right;\n",
       "    }\n",
       "</style>\n",
       "<table border=\"1\" class=\"dataframe\">\n",
       "  <thead>\n",
       "    <tr style=\"text-align: right;\">\n",
       "      <th></th>\n",
       "      <th>param</th>\n",
       "      <th>metric</th>\n",
       "    </tr>\n",
       "  </thead>\n",
       "  <tbody>\n",
       "    <tr>\n",
       "      <th>1</th>\n",
       "      <td>15</td>\n",
       "      <td>1.554949</td>\n",
       "    </tr>\n",
       "    <tr>\n",
       "      <th>0</th>\n",
       "      <td>14</td>\n",
       "      <td>1.557305</td>\n",
       "    </tr>\n",
       "    <tr>\n",
       "      <th>2</th>\n",
       "      <td>16</td>\n",
       "      <td>1.562999</td>\n",
       "    </tr>\n",
       "  </tbody>\n",
       "</table>\n",
       "</div>"
      ],
      "text/plain": [
       "   param    metric\n",
       "1     15  1.554949\n",
       "0     14  1.557305\n",
       "2     16  1.562999"
      ]
     },
     "execution_count": 49,
     "metadata": {},
     "output_type": "execute_result"
    }
   ],
   "source": [
    "%%time\n",
    "# Grid Search test\n",
    "GSrmse = Grid_Search(GridTrain, model='CollabFilter', params=[14, 15, 16])\n",
    "GSrmse = pd.DataFrame(GSrmse)\n",
    "GSrmse.sort_values(by='metric')"
   ]
  },
  {
   "cell_type": "code",
   "execution_count": 120,
   "id": "525f9e1a",
   "metadata": {
    "scrolled": false
   },
   "outputs": [
    {
     "name": "stdout",
     "output_type": "stream",
     "text": [
      "1.5364275685701285\n",
      "Wall time: 14.8 s\n"
     ]
    }
   ],
   "source": [
    "%%time\n",
    "# Fit model based on grid search results\n",
    "colabGrid = CollabFilter(centered_train=centeredUser, raw_train=UserTrain, test=UserTest)\n",
    "colabGrid.prep()\n",
    "colabGridRmse = colabGrid.evaluate(inds1, 15)\n",
    "print(colabGridRmse)"
   ]
  },
  {
   "cell_type": "code",
   "execution_count": 421,
   "id": "3a651534",
   "metadata": {},
   "outputs": [],
   "source": [
    "inds2 = validation_data(ItemTest)\n",
    "centeredItems, itemSVD = zero_center_svd(ItemTrain, svd=True)"
   ]
  },
  {
   "cell_type": "code",
   "execution_count": 39,
   "id": "163b2e1b",
   "metadata": {
    "scrolled": true
   },
   "outputs": [
    {
     "name": "stdout",
     "output_type": "stream",
     "text": [
      "Wall time: 13min 38s\n"
     ]
    },
    {
     "data": {
      "text/html": [
       "<div>\n",
       "<style scoped>\n",
       "    .dataframe tbody tr th:only-of-type {\n",
       "        vertical-align: middle;\n",
       "    }\n",
       "\n",
       "    .dataframe tbody tr th {\n",
       "        vertical-align: top;\n",
       "    }\n",
       "\n",
       "    .dataframe thead th {\n",
       "        text-align: right;\n",
       "    }\n",
       "</style>\n",
       "<table border=\"1\" class=\"dataframe\">\n",
       "  <thead>\n",
       "    <tr style=\"text-align: right;\">\n",
       "      <th></th>\n",
       "      <th>param</th>\n",
       "      <th>metric</th>\n",
       "    </tr>\n",
       "  </thead>\n",
       "  <tbody>\n",
       "    <tr>\n",
       "      <th>0</th>\n",
       "      <td>50</td>\n",
       "      <td>1.470272</td>\n",
       "    </tr>\n",
       "    <tr>\n",
       "      <th>1</th>\n",
       "      <td>70</td>\n",
       "      <td>1.471318</td>\n",
       "    </tr>\n",
       "    <tr>\n",
       "      <th>2</th>\n",
       "      <td>90</td>\n",
       "      <td>1.474484</td>\n",
       "    </tr>\n",
       "  </tbody>\n",
       "</table>\n",
       "</div>"
      ],
      "text/plain": [
       "   param    metric\n",
       "0     50  1.470272\n",
       "1     70  1.471318\n",
       "2     90  1.474484"
      ]
     },
     "execution_count": 39,
     "metadata": {},
     "output_type": "execute_result"
    }
   ],
   "source": [
    "%%time\n",
    "# Item based filtering grid search\n",
    "ItemGrid = Grid_Search(GridTrain, model='CollabFilter', params=[45, 50, 55], item=True)\n",
    "ItemGrid = pd.DataFrame(ItemGrid)\n",
    "ItemGrid.sort_values(by='metric')"
   ]
  },
  {
   "cell_type": "code",
   "execution_count": 123,
   "id": "8432c167",
   "metadata": {},
   "outputs": [
    {
     "name": "stdout",
     "output_type": "stream",
     "text": [
      "1.44835792387837\n",
      "Wall time: 12.9 s\n"
     ]
    }
   ],
   "source": [
    "%%time\n",
    "colab3 = CollabFilter(centered_train=centeredItems, raw_train=ItemTrain, test=ItemTest)\n",
    "colab3.prep()\n",
    "rmse3 = colab3.evaluate(inds2, 50)\n",
    "print(rmse3)"
   ]
  },
  {
   "cell_type": "markdown",
   "id": "b889507e",
   "metadata": {},
   "source": [
    "For the basic memory based model, it seems that item-based filtering yields the best result."
   ]
  },
  {
   "cell_type": "code",
   "execution_count": null,
   "id": "13665266",
   "metadata": {},
   "outputs": [],
   "source": []
  },
  {
   "cell_type": "markdown",
   "id": "d3b52a76",
   "metadata": {},
   "source": [
    "### KNeighbors Collaborative Filter\n",
    "Anouther memory based model, this time using sklearn KNNClassifier and KNNRegressor rather than just a similarity matrix. This model is a lot slower, and yields slightly better results. Additionally, using the KNNClassifier allows for use of sklearns roc_auc_score function."
   ]
  },
  {
   "cell_type": "code",
   "execution_count": 422,
   "id": "51fb3e69",
   "metadata": {},
   "outputs": [],
   "source": [
    "centeredUser, trainSVD = zero_center_svd(UserTrain, svd=True)\n",
    "test_inds = validation_data(UserTest)"
   ]
  },
  {
   "cell_type": "code",
   "execution_count": 423,
   "id": "cc42a27f",
   "metadata": {},
   "outputs": [],
   "source": [
    "class KNN_filter:\n",
    "    def __init__(self, raw_train=None, centered_train=None, test=None):\n",
    "        self.raw_train = raw_train\n",
    "        self.centered_train = centered_train\n",
    "        self.test = test\n",
    "        self.inds = None\n",
    "        \n",
    "    \n",
    "    def evaluate(self, inds, n, metric='cosine', method='regressor', item=False):\n",
    "        '''\n",
    "        Get predicted values for each (index, column) pair in list of inds. Use n nearest neighbors to predict.\n",
    "        Then compare predictions with actual values.\n",
    "        '''\n",
    "        self.inds = inds\n",
    "        \n",
    "        if method=='classifier':\n",
    "            predicted = []\n",
    "            mask = []\n",
    "            \n",
    "            for i, v in enumerate(self.inds):\n",
    "                temp_pred = self.fit_predict_knn(v[0], v[1], n, metric=metric, method=method)[0]\n",
    "                \n",
    "                # If the output of KNNClassifier.predict_proba() is less than 5, do not include that item in the list\n",
    "                # of predictions and add False to mask\n",
    "                if temp_pred.shape[0] != 5:\n",
    "                    mask.append(False)\n",
    "                else:\n",
    "                    predicted.append(temp_pred)\n",
    "                    mask.append(True)\n",
    "            \n",
    "            # Apply mask to list of validation indicies\n",
    "            mask = np.array(mask)\n",
    "            self.inds = np.array(self.inds)[mask]\n",
    "            predicted = np.array(predicted)\n",
    "            \n",
    "            if item == True:\n",
    "                true = np.array([self.test.loc[u, int(i)] for (u, i) in self.inds])\n",
    "            else:\n",
    "                true = np.array([self.test.loc[int(u), i] for (u, i) in self.inds])\n",
    "\n",
    "            return roc_auc_score(true, predicted, multi_class='ovr')\n",
    "        \n",
    "        else:\n",
    "            predicted = np.array([self.fit_predict_knn(u, i, n, metric=metric, method=method) for (u, i) in inds])\n",
    "            true = np.array([self.test.loc[u, i] for (u, i) in inds])\n",
    "\n",
    "        return mean_squared_error(true, predicted, squared=False)\n",
    "\n",
    "    \n",
    "    def fit_predict_knn(self, u, i, n=3, metric='cosine', method='regressor'):\n",
    "        '''\n",
    "        Take a user (u) and item (i) as input and train a KNN model using SVD imputed training df.\n",
    "        The KNN will train for the specific item, and predict the value of that itme for user u. \n",
    "        '''    \n",
    "        \n",
    "        # Isolate target user's vector and drop the column for the target item\n",
    "        target_vector = self.centered_train.loc[[u]].drop(columns=[i])\n",
    "        \n",
    "\n",
    "        # Create a vector of all non target user's ratings for the target item using the raw df (w/ nan)\n",
    "        # Then filter the list for only non nan values\n",
    "        others_y = self.raw_train.loc[:, i].drop(index=[u])\n",
    "        others_y.dropna(inplace=True)\n",
    "        \n",
    "        \n",
    "        # If there are fewer than n user ratings for i in the trainings set, then set i equal to the number of user ratings\n",
    "        # for i in the training set\n",
    "        if others_y.shape[0] < n:\n",
    "            n = others_y.shape[0]\n",
    "\n",
    "        \n",
    "        # Create df of all other user's vectors with target column removed\n",
    "        others_x = self.centered_train.drop(columns=[i], index=[u])        \n",
    "        \n",
    "        # Now filter df of other user vectors on the index of the target item vector\n",
    "        others_x = others_x.loc[others_x.index.isin(others_y.index)]\n",
    "        \n",
    "        \n",
    "        if method == 'classifier':\n",
    "            knn = KNeighborsClassifier(n_neighbors=n, metric=metric, n_jobs=6)\n",
    "            \n",
    "            knn.fit(others_x, others_y)\n",
    "            return knn.predict_proba(target_vector)\n",
    "        \n",
    "        else:\n",
    "            knn = KNeighborsRegressor(n_neighbors=n, metric=metric, n_jobs=6)               \n",
    "        \n",
    "            knn.fit(others_x, others_y)\n",
    "            return knn.predict(target_vector)"
   ]
  },
  {
   "cell_type": "code",
   "execution_count": 424,
   "id": "68546b45",
   "metadata": {},
   "outputs": [],
   "source": [
    "centeredFull = zero_center_svd(UserTrain)[0]"
   ]
  },
  {
   "cell_type": "code",
   "execution_count": 34,
   "id": "b4574b3f",
   "metadata": {
    "scrolled": true
   },
   "outputs": [
    {
     "name": "stdout",
     "output_type": "stream",
     "text": [
      "Wall time: 1h 11min 13s\n"
     ]
    },
    {
     "data": {
      "text/html": [
       "<div>\n",
       "<style scoped>\n",
       "    .dataframe tbody tr th:only-of-type {\n",
       "        vertical-align: middle;\n",
       "    }\n",
       "\n",
       "    .dataframe tbody tr th {\n",
       "        vertical-align: top;\n",
       "    }\n",
       "\n",
       "    .dataframe thead th {\n",
       "        text-align: right;\n",
       "    }\n",
       "</style>\n",
       "<table border=\"1\" class=\"dataframe\">\n",
       "  <thead>\n",
       "    <tr style=\"text-align: right;\">\n",
       "      <th></th>\n",
       "      <th>param</th>\n",
       "      <th>metric</th>\n",
       "    </tr>\n",
       "  </thead>\n",
       "  <tbody>\n",
       "    <tr>\n",
       "      <th>0</th>\n",
       "      <td>20</td>\n",
       "      <td>0.596643</td>\n",
       "    </tr>\n",
       "    <tr>\n",
       "      <th>1</th>\n",
       "      <td>30</td>\n",
       "      <td>0.596998</td>\n",
       "    </tr>\n",
       "    <tr>\n",
       "      <th>2</th>\n",
       "      <td>40</td>\n",
       "      <td>0.599419</td>\n",
       "    </tr>\n",
       "  </tbody>\n",
       "</table>\n",
       "</div>"
      ],
      "text/plain": [
       "   param    metric\n",
       "0     20  0.596643\n",
       "1     30  0.596998\n",
       "2     40  0.599419"
      ]
     },
     "execution_count": 34,
     "metadata": {},
     "output_type": "execute_result"
    }
   ],
   "source": [
    "%%time\n",
    "# Grid Search Test\n",
    "GridSearchKNN = Grid_Search(dfReduced, params=[20, 30, 40], knn_method='classifier')\n",
    "GridSearchKNN = pd.DataFrame(GridSearchKNN)\n",
    "GridSearchKNN.sort_values(by='metric')"
   ]
  },
  {
   "cell_type": "code",
   "execution_count": 127,
   "id": "1fbad392",
   "metadata": {
    "scrolled": false
   },
   "outputs": [
    {
     "name": "stdout",
     "output_type": "stream",
     "text": [
      "0.5918440608081743\n",
      "Wall time: 2min 55s\n"
     ]
    }
   ],
   "source": [
    "%%time\n",
    "knn0 = KNN_filter(raw_train=UserTrain, centered_train=centeredUser, test=UserTest)\n",
    "rmseKnn = knn0.evaluate(test_inds, n=60, method='classifier')\n",
    "print(rmseKnn)"
   ]
  },
  {
   "cell_type": "code",
   "execution_count": null,
   "id": "00eceb9a",
   "metadata": {},
   "outputs": [],
   "source": []
  },
  {
   "cell_type": "code",
   "execution_count": 54,
   "id": "2439f62c",
   "metadata": {
    "scrolled": false
   },
   "outputs": [
    {
     "name": "stdout",
     "output_type": "stream",
     "text": [
      "Wall time: 39min 30s\n"
     ]
    },
    {
     "data": {
      "text/html": [
       "<div>\n",
       "<style scoped>\n",
       "    .dataframe tbody tr th:only-of-type {\n",
       "        vertical-align: middle;\n",
       "    }\n",
       "\n",
       "    .dataframe tbody tr th {\n",
       "        vertical-align: top;\n",
       "    }\n",
       "\n",
       "    .dataframe thead th {\n",
       "        text-align: right;\n",
       "    }\n",
       "</style>\n",
       "<table border=\"1\" class=\"dataframe\">\n",
       "  <thead>\n",
       "    <tr style=\"text-align: right;\">\n",
       "      <th></th>\n",
       "      <th>param</th>\n",
       "      <th>metric</th>\n",
       "    </tr>\n",
       "  </thead>\n",
       "  <tbody>\n",
       "    <tr>\n",
       "      <th>2</th>\n",
       "      <td>40</td>\n",
       "      <td>0.598741</td>\n",
       "    </tr>\n",
       "    <tr>\n",
       "      <th>1</th>\n",
       "      <td>30</td>\n",
       "      <td>0.602896</td>\n",
       "    </tr>\n",
       "    <tr>\n",
       "      <th>0</th>\n",
       "      <td>20</td>\n",
       "      <td>0.607229</td>\n",
       "    </tr>\n",
       "  </tbody>\n",
       "</table>\n",
       "</div>"
      ],
      "text/plain": [
       "   param    metric\n",
       "2     40  0.598741\n",
       "1     30  0.602896\n",
       "0     20  0.607229"
      ]
     },
     "execution_count": 54,
     "metadata": {},
     "output_type": "execute_result"
    }
   ],
   "source": [
    "%%time\n",
    "# Item Grid Search Test\n",
    "GridSearchKNN = Grid_Search(dfReduced, params=[20, 30, 40], item=True, knn_method='classifier')\n",
    "GridSearchKNN = pd.DataFrame(GridSearchKNN)\n",
    "GridSearchKNN.sort_values(by='metric')"
   ]
  },
  {
   "cell_type": "code",
   "execution_count": null,
   "id": "4de490c3",
   "metadata": {},
   "outputs": [],
   "source": []
  },
  {
   "cell_type": "code",
   "execution_count": 425,
   "id": "10784177",
   "metadata": {},
   "outputs": [],
   "source": [
    "item_testInds = validation_data(ItemTest)"
   ]
  },
  {
   "cell_type": "code",
   "execution_count": 129,
   "id": "22f7274b",
   "metadata": {
    "scrolled": true
   },
   "outputs": [
    {
     "name": "stdout",
     "output_type": "stream",
     "text": [
      "0.6103326720144409\n",
      "Wall time: 4min 24s\n"
     ]
    }
   ],
   "source": [
    "%%time\n",
    "knn3 = KNN_filter(raw_train=ItemTrain, centered_train=centeredItems, test=ItemTest)\n",
    "rmseKnn3 = knn3.evaluate(item_testInds, n=50, method='classifier', item=True)\n",
    "print(rmseKnn3)"
   ]
  },
  {
   "cell_type": "markdown",
   "id": "dbce9774",
   "metadata": {},
   "source": [
    "Again item-based filtering seems to be slightly better. Overall this model is still pretty bad, auc is just slightly over 50%."
   ]
  },
  {
   "cell_type": "code",
   "execution_count": null,
   "id": "1fab01fc",
   "metadata": {},
   "outputs": [],
   "source": []
  },
  {
   "cell_type": "markdown",
   "id": "9480edd4",
   "metadata": {},
   "source": [
    "### SVD\n",
    "Basic SVD, no actual training involved."
   ]
  },
  {
   "cell_type": "code",
   "execution_count": 426,
   "id": "4550ed43",
   "metadata": {},
   "outputs": [],
   "source": [
    "def evaluate(predicted, test, inds):\n",
    "    '''\n",
    "    Get predicted values for each (index, column) pair in list of inds. Then compare predictions with actual values.\n",
    "    '''\n",
    "    predicted = np.array([predicted.loc[u, i] for (u, i) in inds])\n",
    "    true = np.array([test.loc[u, i] for (u, i) in inds])\n",
    "        \n",
    "    return mean_squared_error(true, predicted, squared=False)"
   ]
  },
  {
   "cell_type": "code",
   "execution_count": null,
   "id": "6a123147",
   "metadata": {},
   "outputs": [],
   "source": []
  },
  {
   "cell_type": "code",
   "execution_count": 131,
   "id": "21dc0b93",
   "metadata": {
    "scrolled": false
   },
   "outputs": [
    {
     "name": "stdout",
     "output_type": "stream",
     "text": [
      "Wall time: 48min 28s\n"
     ]
    },
    {
     "data": {
      "text/html": [
       "<div>\n",
       "<style scoped>\n",
       "    .dataframe tbody tr th:only-of-type {\n",
       "        vertical-align: middle;\n",
       "    }\n",
       "\n",
       "    .dataframe tbody tr th {\n",
       "        vertical-align: top;\n",
       "    }\n",
       "\n",
       "    .dataframe thead th {\n",
       "        text-align: right;\n",
       "    }\n",
       "</style>\n",
       "<table border=\"1\" class=\"dataframe\">\n",
       "  <thead>\n",
       "    <tr style=\"text-align: right;\">\n",
       "      <th></th>\n",
       "      <th>params</th>\n",
       "      <th>metric</th>\n",
       "    </tr>\n",
       "  </thead>\n",
       "  <tbody>\n",
       "    <tr>\n",
       "      <th>1</th>\n",
       "      <td>(3, LM, lobpcg)</td>\n",
       "      <td>1.445740</td>\n",
       "    </tr>\n",
       "    <tr>\n",
       "      <th>5</th>\n",
       "      <td>(6, LM, lobpcg)</td>\n",
       "      <td>1.447655</td>\n",
       "    </tr>\n",
       "    <tr>\n",
       "      <th>9</th>\n",
       "      <td>(9, LM, lobpcg)</td>\n",
       "      <td>1.448175</td>\n",
       "    </tr>\n",
       "    <tr>\n",
       "      <th>0</th>\n",
       "      <td>(3, LM, arpack)</td>\n",
       "      <td>1.452248</td>\n",
       "    </tr>\n",
       "    <tr>\n",
       "      <th>4</th>\n",
       "      <td>(6, LM, arpack)</td>\n",
       "      <td>1.452835</td>\n",
       "    </tr>\n",
       "    <tr>\n",
       "      <th>8</th>\n",
       "      <td>(9, LM, arpack)</td>\n",
       "      <td>1.453342</td>\n",
       "    </tr>\n",
       "    <tr>\n",
       "      <th>2</th>\n",
       "      <td>(3, SM, arpack)</td>\n",
       "      <td>1.466655</td>\n",
       "    </tr>\n",
       "    <tr>\n",
       "      <th>3</th>\n",
       "      <td>(3, SM, lobpcg)</td>\n",
       "      <td>1.467198</td>\n",
       "    </tr>\n",
       "    <tr>\n",
       "      <th>7</th>\n",
       "      <td>(6, SM, lobpcg)</td>\n",
       "      <td>1.468665</td>\n",
       "    </tr>\n",
       "    <tr>\n",
       "      <th>6</th>\n",
       "      <td>(6, SM, arpack)</td>\n",
       "      <td>1.468956</td>\n",
       "    </tr>\n",
       "    <tr>\n",
       "      <th>10</th>\n",
       "      <td>(9, SM, arpack)</td>\n",
       "      <td>1.470373</td>\n",
       "    </tr>\n",
       "    <tr>\n",
       "      <th>11</th>\n",
       "      <td>(9, SM, lobpcg)</td>\n",
       "      <td>1.471051</td>\n",
       "    </tr>\n",
       "  </tbody>\n",
       "</table>\n",
       "</div>"
      ],
      "text/plain": [
       "             params    metric\n",
       "1   (3, LM, lobpcg)  1.445740\n",
       "5   (6, LM, lobpcg)  1.447655\n",
       "9   (9, LM, lobpcg)  1.448175\n",
       "0   (3, LM, arpack)  1.452248\n",
       "4   (6, LM, arpack)  1.452835\n",
       "8   (9, LM, arpack)  1.453342\n",
       "2   (3, SM, arpack)  1.466655\n",
       "3   (3, SM, lobpcg)  1.467198\n",
       "7   (6, SM, lobpcg)  1.468665\n",
       "6   (6, SM, arpack)  1.468956\n",
       "10  (9, SM, arpack)  1.470373\n",
       "11  (9, SM, lobpcg)  1.471051"
      ]
     },
     "execution_count": 131,
     "metadata": {},
     "output_type": "execute_result"
    }
   ],
   "source": [
    "%%time\n",
    "# SVD user based grid search\n",
    "\n",
    "k = [3, 6, 9]\n",
    "which = ['LM', 'SM']\n",
    "solver = ['arpack', 'lobpcg']\n",
    "\n",
    "SVDp = list(product(k, which, solver))\n",
    "\n",
    "\n",
    "userSVD = Grid_Search(GridTrain, SVD=True, SVD_params=SVDp)\n",
    "userSVD = pd.DataFrame(userSVD)\n",
    "userSVD.sort_values(by='metric')"
   ]
  },
  {
   "cell_type": "markdown",
   "id": "99534254",
   "metadata": {},
   "source": [
    "Results are better than the two previous memory based models."
   ]
  },
  {
   "cell_type": "code",
   "execution_count": null,
   "id": "ea63bf4e",
   "metadata": {},
   "outputs": [],
   "source": []
  },
  {
   "cell_type": "markdown",
   "id": "187a2f5d",
   "metadata": {},
   "source": [
    "# Surprise Library\n",
    "Next I'll use the suprise library of recommender systems."
   ]
  },
  {
   "cell_type": "markdown",
   "id": "9c8da709",
   "metadata": {},
   "source": [
    "### Basic User Based Collaborative Filtering"
   ]
  },
  {
   "cell_type": "code",
   "execution_count": 465,
   "id": "26f297ed",
   "metadata": {},
   "outputs": [],
   "source": [
    "from collections import defaultdict\n",
    "from surprise import Reader\n",
    "from surprise import Dataset\n",
    "from surprise import accuracy\n",
    "from surprise.model_selection import cross_validate, train_test_split, GridSearchCV, RandomizedSearchCV\n",
    "from surprise import SVD, SVDpp, KNNBasic, KNNWithMeans, BaselineOnly, KNNBaseline, SVDpp, NMF, SlopeOne, CoClustering"
   ]
  },
  {
   "cell_type": "code",
   "execution_count": 428,
   "id": "0fa767e1",
   "metadata": {},
   "outputs": [
    {
     "data": {
      "text/html": [
       "<div>\n",
       "<style scoped>\n",
       "    .dataframe tbody tr th:only-of-type {\n",
       "        vertical-align: middle;\n",
       "    }\n",
       "\n",
       "    .dataframe tbody tr th {\n",
       "        vertical-align: top;\n",
       "    }\n",
       "\n",
       "    .dataframe thead th {\n",
       "        text-align: right;\n",
       "    }\n",
       "</style>\n",
       "<table border=\"1\" class=\"dataframe\">\n",
       "  <thead>\n",
       "    <tr style=\"text-align: right;\">\n",
       "      <th></th>\n",
       "      <th>userID</th>\n",
       "      <th>gameName</th>\n",
       "      <th>playHours</th>\n",
       "      <th>rating</th>\n",
       "      <th>appid</th>\n",
       "      <th>developer</th>\n",
       "      <th>publisher</th>\n",
       "      <th>1980s</th>\n",
       "      <th>1990's</th>\n",
       "      <th>2.5D</th>\n",
       "      <th>...</th>\n",
       "      <th>Snowboarding</th>\n",
       "      <th>Social Deduction</th>\n",
       "      <th>Video Production</th>\n",
       "      <th>Vikings</th>\n",
       "      <th>Warhammer 40K</th>\n",
       "      <th>Werewolves</th>\n",
       "      <th>Bikes</th>\n",
       "      <th>Card Battler</th>\n",
       "      <th>Deckbuilding</th>\n",
       "      <th>split</th>\n",
       "    </tr>\n",
       "  </thead>\n",
       "  <tbody>\n",
       "    <tr>\n",
       "      <th>0</th>\n",
       "      <td>48028873</td>\n",
       "      <td>100% orange juice</td>\n",
       "      <td>1.8</td>\n",
       "      <td>4.0</td>\n",
       "      <td>282800.0</td>\n",
       "      <td>Orange_Juice</td>\n",
       "      <td>Fruitbat Factory</td>\n",
       "      <td>0.0</td>\n",
       "      <td>0.0</td>\n",
       "      <td>0</td>\n",
       "      <td>...</td>\n",
       "      <td>NaN</td>\n",
       "      <td>NaN</td>\n",
       "      <td>NaN</td>\n",
       "      <td>NaN</td>\n",
       "      <td>NaN</td>\n",
       "      <td>NaN</td>\n",
       "      <td>NaN</td>\n",
       "      <td>NaN</td>\n",
       "      <td>NaN</td>\n",
       "      <td>train</td>\n",
       "    </tr>\n",
       "    <tr>\n",
       "      <th>1</th>\n",
       "      <td>88525821</td>\n",
       "      <td>100% orange juice</td>\n",
       "      <td>0.9</td>\n",
       "      <td>2.0</td>\n",
       "      <td>282800.0</td>\n",
       "      <td>Orange_Juice</td>\n",
       "      <td>Fruitbat Factory</td>\n",
       "      <td>0.0</td>\n",
       "      <td>0.0</td>\n",
       "      <td>0</td>\n",
       "      <td>...</td>\n",
       "      <td>NaN</td>\n",
       "      <td>NaN</td>\n",
       "      <td>NaN</td>\n",
       "      <td>NaN</td>\n",
       "      <td>NaN</td>\n",
       "      <td>NaN</td>\n",
       "      <td>NaN</td>\n",
       "      <td>NaN</td>\n",
       "      <td>NaN</td>\n",
       "      <td>train</td>\n",
       "    </tr>\n",
       "    <tr>\n",
       "      <th>2</th>\n",
       "      <td>93644606</td>\n",
       "      <td>100% orange juice</td>\n",
       "      <td>3.1</td>\n",
       "      <td>4.0</td>\n",
       "      <td>282800.0</td>\n",
       "      <td>Orange_Juice</td>\n",
       "      <td>Fruitbat Factory</td>\n",
       "      <td>0.0</td>\n",
       "      <td>0.0</td>\n",
       "      <td>0</td>\n",
       "      <td>...</td>\n",
       "      <td>NaN</td>\n",
       "      <td>NaN</td>\n",
       "      <td>NaN</td>\n",
       "      <td>NaN</td>\n",
       "      <td>NaN</td>\n",
       "      <td>NaN</td>\n",
       "      <td>NaN</td>\n",
       "      <td>NaN</td>\n",
       "      <td>NaN</td>\n",
       "      <td>train</td>\n",
       "    </tr>\n",
       "    <tr>\n",
       "      <th>3</th>\n",
       "      <td>115996656</td>\n",
       "      <td>100% orange juice</td>\n",
       "      <td>2.5</td>\n",
       "      <td>5.0</td>\n",
       "      <td>282800.0</td>\n",
       "      <td>Orange_Juice</td>\n",
       "      <td>Fruitbat Factory</td>\n",
       "      <td>0.0</td>\n",
       "      <td>0.0</td>\n",
       "      <td>0</td>\n",
       "      <td>...</td>\n",
       "      <td>NaN</td>\n",
       "      <td>NaN</td>\n",
       "      <td>NaN</td>\n",
       "      <td>NaN</td>\n",
       "      <td>NaN</td>\n",
       "      <td>NaN</td>\n",
       "      <td>NaN</td>\n",
       "      <td>NaN</td>\n",
       "      <td>NaN</td>\n",
       "      <td>train</td>\n",
       "    </tr>\n",
       "    <tr>\n",
       "      <th>4</th>\n",
       "      <td>125017535</td>\n",
       "      <td>100% orange juice</td>\n",
       "      <td>0.7</td>\n",
       "      <td>3.0</td>\n",
       "      <td>282800.0</td>\n",
       "      <td>Orange_Juice</td>\n",
       "      <td>Fruitbat Factory</td>\n",
       "      <td>0.0</td>\n",
       "      <td>0.0</td>\n",
       "      <td>0</td>\n",
       "      <td>...</td>\n",
       "      <td>NaN</td>\n",
       "      <td>NaN</td>\n",
       "      <td>NaN</td>\n",
       "      <td>NaN</td>\n",
       "      <td>NaN</td>\n",
       "      <td>NaN</td>\n",
       "      <td>NaN</td>\n",
       "      <td>NaN</td>\n",
       "      <td>NaN</td>\n",
       "      <td>train</td>\n",
       "    </tr>\n",
       "  </tbody>\n",
       "</table>\n",
       "<p>5 rows × 389 columns</p>\n",
       "</div>"
      ],
      "text/plain": [
       "      userID           gameName  playHours  rating     appid     developer  \\\n",
       "0   48028873  100% orange juice        1.8     4.0  282800.0  Orange_Juice   \n",
       "1   88525821  100% orange juice        0.9     2.0  282800.0  Orange_Juice   \n",
       "2   93644606  100% orange juice        3.1     4.0  282800.0  Orange_Juice   \n",
       "3  115996656  100% orange juice        2.5     5.0  282800.0  Orange_Juice   \n",
       "4  125017535  100% orange juice        0.7     3.0  282800.0  Orange_Juice   \n",
       "\n",
       "          publisher  1980s  1990's  2.5D  ...  Snowboarding  Social Deduction  \\\n",
       "0  Fruitbat Factory    0.0     0.0     0  ...           NaN               NaN   \n",
       "1  Fruitbat Factory    0.0     0.0     0  ...           NaN               NaN   \n",
       "2  Fruitbat Factory    0.0     0.0     0  ...           NaN               NaN   \n",
       "3  Fruitbat Factory    0.0     0.0     0  ...           NaN               NaN   \n",
       "4  Fruitbat Factory    0.0     0.0     0  ...           NaN               NaN   \n",
       "\n",
       "   Video Production  Vikings  Warhammer 40K  Werewolves  Bikes  Card Battler  \\\n",
       "0               NaN      NaN            NaN         NaN    NaN           NaN   \n",
       "1               NaN      NaN            NaN         NaN    NaN           NaN   \n",
       "2               NaN      NaN            NaN         NaN    NaN           NaN   \n",
       "3               NaN      NaN            NaN         NaN    NaN           NaN   \n",
       "4               NaN      NaN            NaN         NaN    NaN           NaN   \n",
       "\n",
       "   Deckbuilding  split  \n",
       "0           NaN  train  \n",
       "1           NaN  train  \n",
       "2           NaN  train  \n",
       "3           NaN  train  \n",
       "4           NaN  train  \n",
       "\n",
       "[5 rows x 389 columns]"
      ]
     },
     "execution_count": 428,
     "metadata": {},
     "output_type": "execute_result"
    }
   ],
   "source": [
    "dfReduced.head()"
   ]
  },
  {
   "cell_type": "code",
   "execution_count": 429,
   "id": "eacc7e1b",
   "metadata": {},
   "outputs": [],
   "source": [
    "# Convert df into suprise data object using Reader()\n",
    "UserTrainData = dfReduced.loc[dfReduced.split=='train', ['userID', 'gameName', 'rating']]\n",
    "UserTestData = dfReduced.loc[dfReduced.split=='test', ['userID', 'gameName', 'rating']]\n",
    "UserTrainData.rename(columns={'rating':'raw_rating'})\n",
    "UserTestData.rename(columns={'rating':'raw_rating'})\n",
    "\n",
    "reader = Reader(rating_scale=(1,5))\n",
    "Traindata = Dataset.load_from_df(UserTrainData, reader)\n",
    "Testdata = Dataset.load_from_df(UserTestData, reader)\n",
    "\n",
    "# Do the same with item based data rather than user based\n",
    "dfReducedItems = pd.concat([dfReduced['gameName'], dfReduced['userID'], dfReduced['rating'], dfReduced['split']], axis=1)\n",
    "ItemTrainData = dfReducedItems.loc[dfReducedItems.split=='train', ['gameName', 'userID', 'rating']]\n",
    "ItemTestData = dfReducedItems.loc[dfReducedItems.split=='test', ['gameName', 'userID', 'rating']]\n",
    "\n",
    "ItemTrain = Dataset.load_from_df(ItemTrainData, reader)\n",
    "ItemTest = Dataset.load_from_df(ItemTestData, reader)"
   ]
  },
  {
   "cell_type": "code",
   "execution_count": 430,
   "id": "9844494f",
   "metadata": {},
   "outputs": [],
   "source": [
    "# Define a function that takes training/testing data and a model, then fits and evaluates the model\n",
    "def sprs(model, train, test):\n",
    "    '''\n",
    "    Fits and predicts using given suprise data and model. Then extracts values from testing/prediction \n",
    "    data and returns them as list\n",
    "    '''\n",
    "    model = model\n",
    "    model.fit(train)\n",
    "    pred = model.test(test)\n",
    "    \n",
    "    test_vals = [i[2] for i in test]\n",
    "    pred_vals = [i[3] for i in pred]\n",
    "    \n",
    "    return test_vals, pred_vals"
   ]
  },
  {
   "cell_type": "code",
   "execution_count": 431,
   "id": "4117f1da",
   "metadata": {},
   "outputs": [],
   "source": [
    "# User based train and test sets\n",
    "train = Traindata.build_full_trainset()\n",
    "test = Traindata.construct_testset(Testdata.raw_ratings)\n",
    "\n",
    "results = []"
   ]
  },
  {
   "cell_type": "code",
   "execution_count": 432,
   "id": "bc488738",
   "metadata": {},
   "outputs": [
    {
     "data": {
      "text/plain": [
       "(surprise.trainset.Trainset, list)"
      ]
     },
     "execution_count": 432,
     "metadata": {},
     "output_type": "execute_result"
    }
   ],
   "source": [
    "type(train), type(test)"
   ]
  },
  {
   "cell_type": "code",
   "execution_count": 138,
   "id": "f7ecd213",
   "metadata": {
    "scrolled": false
   },
   "outputs": [
    {
     "name": "stdout",
     "output_type": "stream",
     "text": [
      "Computing the msd similarity matrix...\n",
      "Done computing similarity matrix.\n",
      "Computing the msd similarity matrix...\n",
      "Done computing similarity matrix.\n",
      "Estimating biases using als...\n",
      "Estimating biases using als...\n",
      "Computing the msd similarity matrix...\n",
      "Done computing similarity matrix.\n"
     ]
    },
    {
     "name": "stderr",
     "output_type": "stream",
     "text": [
      "C:\\Users\\blake\\AppData\\Local\\Temp/ipykernel_17660/1218681273.py:8: DeprecationWarning: `np.int` is a deprecated alias for the builtin `int`. To silence this warning, use `int` by itself. Doing this will not modify any behavior and is safe. When replacing `np.int`, you may wish to use e.g. `np.int64` or `np.int32` to specify the precision. If you wish to review your current use, check the release note link for additional information.\n",
      "Deprecated in NumPy 1.20; for more details and guidance: https://numpy.org/devdocs/release/1.20.0-notes.html#deprecations\n",
      "  model.fit(train)\n",
      "C:\\Users\\blake\\AppData\\Local\\Temp/ipykernel_17660/1218681273.py:8: DeprecationWarning: `np.int` is a deprecated alias for the builtin `int`. To silence this warning, use `int` by itself. Doing this will not modify any behavior and is safe. When replacing `np.int`, you may wish to use e.g. `np.int64` or `np.int32` to specify the precision. If you wish to review your current use, check the release note link for additional information.\n",
      "Deprecated in NumPy 1.20; for more details and guidance: https://numpy.org/devdocs/release/1.20.0-notes.html#deprecations\n",
      "  model.fit(train)\n"
     ]
    },
    {
     "name": "stdout",
     "output_type": "stream",
     "text": [
      "Wall time: 44.3 s\n"
     ]
    }
   ],
   "source": [
    "%%time\n",
    "for i in [SVD, SVDpp, KNNBasic, KNNWithMeans, BaselineOnly, KNNBaseline, NMF, SlopeOne, CoClustering]:\n",
    "    testVal, pred = sprs(i(), train, test)\n",
    "    results.append(mean_squared_error(testVal, pred, squared=False))"
   ]
  },
  {
   "cell_type": "code",
   "execution_count": 139,
   "id": "0a1e5be2",
   "metadata": {
    "scrolled": true
   },
   "outputs": [
    {
     "data": {
      "text/html": [
       "<div>\n",
       "<style scoped>\n",
       "    .dataframe tbody tr th:only-of-type {\n",
       "        vertical-align: middle;\n",
       "    }\n",
       "\n",
       "    .dataframe tbody tr th {\n",
       "        vertical-align: top;\n",
       "    }\n",
       "\n",
       "    .dataframe thead th {\n",
       "        text-align: right;\n",
       "    }\n",
       "</style>\n",
       "<table border=\"1\" class=\"dataframe\">\n",
       "  <thead>\n",
       "    <tr style=\"text-align: right;\">\n",
       "      <th></th>\n",
       "      <th>model</th>\n",
       "      <th>RMSE</th>\n",
       "    </tr>\n",
       "  </thead>\n",
       "  <tbody>\n",
       "    <tr>\n",
       "      <th>5</th>\n",
       "      <td>KNNBaseline</td>\n",
       "      <td>1.432467</td>\n",
       "    </tr>\n",
       "    <tr>\n",
       "      <th>3</th>\n",
       "      <td>KNNWithMeans</td>\n",
       "      <td>1.440156</td>\n",
       "    </tr>\n",
       "    <tr>\n",
       "      <th>4</th>\n",
       "      <td>BaselineOnly</td>\n",
       "      <td>1.442411</td>\n",
       "    </tr>\n",
       "    <tr>\n",
       "      <th>7</th>\n",
       "      <td>SlopeOne</td>\n",
       "      <td>1.443847</td>\n",
       "    </tr>\n",
       "    <tr>\n",
       "      <th>0</th>\n",
       "      <td>SVD</td>\n",
       "      <td>1.445403</td>\n",
       "    </tr>\n",
       "    <tr>\n",
       "      <th>1</th>\n",
       "      <td>SVDpp</td>\n",
       "      <td>1.458543</td>\n",
       "    </tr>\n",
       "    <tr>\n",
       "      <th>2</th>\n",
       "      <td>KNNBasic</td>\n",
       "      <td>1.467402</td>\n",
       "    </tr>\n",
       "    <tr>\n",
       "      <th>8</th>\n",
       "      <td>CoClustering</td>\n",
       "      <td>1.474819</td>\n",
       "    </tr>\n",
       "    <tr>\n",
       "      <th>6</th>\n",
       "      <td>NMF</td>\n",
       "      <td>1.527844</td>\n",
       "    </tr>\n",
       "  </tbody>\n",
       "</table>\n",
       "</div>"
      ],
      "text/plain": [
       "          model      RMSE\n",
       "5   KNNBaseline  1.432467\n",
       "3  KNNWithMeans  1.440156\n",
       "4  BaselineOnly  1.442411\n",
       "7      SlopeOne  1.443847\n",
       "0           SVD  1.445403\n",
       "1         SVDpp  1.458543\n",
       "2      KNNBasic  1.467402\n",
       "8  CoClustering  1.474819\n",
       "6           NMF  1.527844"
      ]
     },
     "execution_count": 139,
     "metadata": {},
     "output_type": "execute_result"
    }
   ],
   "source": [
    "names = ['SVD', 'SVDpp', 'KNNBasic', 'KNNWithMeans', 'BaselineOnly', 'KNNBaseline', 'NMF', 'SlopeOne', 'CoClustering']\n",
    "res = {'model':names, 'RMSE':results}\n",
    "UserResultsDF = pd.DataFrame(res)\n",
    "UserResultsDF.sort_values(by='RMSE')"
   ]
  },
  {
   "cell_type": "markdown",
   "id": "0d5dd9f4",
   "metadata": {},
   "source": [
    "Running through the default parameters for each model it looks like the KNN models perfomr the best for user-based filtering."
   ]
  },
  {
   "cell_type": "code",
   "execution_count": null,
   "id": "72e70dd1",
   "metadata": {},
   "outputs": [],
   "source": []
  },
  {
   "cell_type": "code",
   "execution_count": 140,
   "id": "f6722e30",
   "metadata": {
    "scrolled": false
   },
   "outputs": [
    {
     "name": "stdout",
     "output_type": "stream",
     "text": [
      "Computing the msd similarity matrix...\n",
      "Done computing similarity matrix.\n",
      "Computing the msd similarity matrix...\n",
      "Done computing similarity matrix.\n",
      "Estimating biases using als...\n",
      "Estimating biases using als...\n",
      "Computing the msd similarity matrix...\n",
      "Done computing similarity matrix.\n"
     ]
    },
    {
     "name": "stderr",
     "output_type": "stream",
     "text": [
      "C:\\Users\\blake\\AppData\\Local\\Temp/ipykernel_17660/1218681273.py:8: DeprecationWarning: `np.int` is a deprecated alias for the builtin `int`. To silence this warning, use `int` by itself. Doing this will not modify any behavior and is safe. When replacing `np.int`, you may wish to use e.g. `np.int64` or `np.int32` to specify the precision. If you wish to review your current use, check the release note link for additional information.\n",
      "Deprecated in NumPy 1.20; for more details and guidance: https://numpy.org/devdocs/release/1.20.0-notes.html#deprecations\n",
      "  model.fit(train)\n",
      "C:\\Users\\blake\\AppData\\Local\\Temp/ipykernel_17660/1218681273.py:8: DeprecationWarning: `np.int` is a deprecated alias for the builtin `int`. To silence this warning, use `int` by itself. Doing this will not modify any behavior and is safe. When replacing `np.int`, you may wish to use e.g. `np.int64` or `np.int32` to specify the precision. If you wish to review your current use, check the release note link for additional information.\n",
      "Deprecated in NumPy 1.20; for more details and guidance: https://numpy.org/devdocs/release/1.20.0-notes.html#deprecations\n",
      "  model.fit(train)\n"
     ]
    },
    {
     "name": "stdout",
     "output_type": "stream",
     "text": [
      "Wall time: 1min 11s\n"
     ]
    },
    {
     "data": {
      "text/html": [
       "<div>\n",
       "<style scoped>\n",
       "    .dataframe tbody tr th:only-of-type {\n",
       "        vertical-align: middle;\n",
       "    }\n",
       "\n",
       "    .dataframe tbody tr th {\n",
       "        vertical-align: top;\n",
       "    }\n",
       "\n",
       "    .dataframe thead th {\n",
       "        text-align: right;\n",
       "    }\n",
       "</style>\n",
       "<table border=\"1\" class=\"dataframe\">\n",
       "  <thead>\n",
       "    <tr style=\"text-align: right;\">\n",
       "      <th></th>\n",
       "      <th>model</th>\n",
       "      <th>RMSE</th>\n",
       "    </tr>\n",
       "  </thead>\n",
       "  <tbody>\n",
       "    <tr>\n",
       "      <th>5</th>\n",
       "      <td>KNNBaseline</td>\n",
       "      <td>1.428222</td>\n",
       "    </tr>\n",
       "    <tr>\n",
       "      <th>3</th>\n",
       "      <td>KNNWithMeans</td>\n",
       "      <td>1.433293</td>\n",
       "    </tr>\n",
       "    <tr>\n",
       "      <th>2</th>\n",
       "      <td>KNNBasic</td>\n",
       "      <td>1.434720</td>\n",
       "    </tr>\n",
       "    <tr>\n",
       "      <th>4</th>\n",
       "      <td>BaselineOnly</td>\n",
       "      <td>1.440650</td>\n",
       "    </tr>\n",
       "    <tr>\n",
       "      <th>1</th>\n",
       "      <td>SVDpp</td>\n",
       "      <td>1.442536</td>\n",
       "    </tr>\n",
       "    <tr>\n",
       "      <th>7</th>\n",
       "      <td>SlopeOne</td>\n",
       "      <td>1.445380</td>\n",
       "    </tr>\n",
       "    <tr>\n",
       "      <th>0</th>\n",
       "      <td>SVD</td>\n",
       "      <td>1.454136</td>\n",
       "    </tr>\n",
       "    <tr>\n",
       "      <th>8</th>\n",
       "      <td>CoClustering</td>\n",
       "      <td>1.457473</td>\n",
       "    </tr>\n",
       "    <tr>\n",
       "      <th>6</th>\n",
       "      <td>NMF</td>\n",
       "      <td>1.504845</td>\n",
       "    </tr>\n",
       "  </tbody>\n",
       "</table>\n",
       "</div>"
      ],
      "text/plain": [
       "          model      RMSE\n",
       "5   KNNBaseline  1.428222\n",
       "3  KNNWithMeans  1.433293\n",
       "2      KNNBasic  1.434720\n",
       "4  BaselineOnly  1.440650\n",
       "1         SVDpp  1.442536\n",
       "7      SlopeOne  1.445380\n",
       "0           SVD  1.454136\n",
       "8  CoClustering  1.457473\n",
       "6           NMF  1.504845"
      ]
     },
     "execution_count": 140,
     "metadata": {},
     "output_type": "execute_result"
    }
   ],
   "source": [
    "%%time\n",
    "# Now repeate with Item based data\n",
    "Itrain = ItemTrain.build_full_trainset()\n",
    "Itest = ItemTrain.construct_testset(ItemTest.raw_ratings)\n",
    "\n",
    "ItemResults = []\n",
    "\n",
    "for i in [SVD, SVDpp, KNNBasic, KNNWithMeans, BaselineOnly, KNNBaseline, NMF, SlopeOne, CoClustering]:\n",
    "    testVal, pred = sprs(i(), Itrain, Itest)\n",
    "    ItemResults.append(mean_squared_error(testVal, pred, squared=False))\n",
    "    \n",
    "\n",
    "names = ['SVD', 'SVDpp', 'KNNBasic', 'KNNWithMeans', 'BaselineOnly', 'KNNBaseline', 'NMF', 'SlopeOne', 'CoClustering']\n",
    "res = {'model':names, 'RMSE':ItemResults}\n",
    "ItemResultsDF = pd.DataFrame(res)\n",
    "ItemResultsDF.sort_values(by='RMSE')"
   ]
  },
  {
   "cell_type": "markdown",
   "id": "8b74b2d2",
   "metadata": {},
   "source": [
    "Item-based filtering yields slightly better results for default models. KNNBaseline seems to be the best performing model for both user and item based collabortive filtering. Next I'll try to tune a few of the Suprise models to improve their performance"
   ]
  },
  {
   "cell_type": "markdown",
   "id": "a8352420",
   "metadata": {},
   "source": [
    "### Grid/Random Search"
   ]
  },
  {
   "cell_type": "code",
   "execution_count": 141,
   "id": "0dc01ed2",
   "metadata": {},
   "outputs": [],
   "source": [
    "def sprs_GridSearch(param_grid, model, train, test):\n",
    "    '''\n",
    "    Fuction takes a param grid and a surprise model, them performs grid search and scores it.\n",
    "    Returns the RMSE, best model parameters, and the suprise prediction set.\n",
    "    '''\n",
    "    # Set up and fit the grid search\n",
    "    grid_search = GridSearchCV(model, param_grid, measures=['rmse', 'mae'], cv=5)\n",
    "    grid_search.fit(train)\n",
    "    algo = grid_search.best_estimator['rmse']\n",
    "    \n",
    "    # With best set of parameters, fit and score model\n",
    "    trainset = train.build_full_trainset()\n",
    "    algo.fit(trainset)\n",
    "    \n",
    "    testset = train.construct_testset(test.raw_ratings)\n",
    "    pred = algo.test(testset)\n",
    "    \n",
    "    return accuracy.rmse(pred), grid_search.best_params, pred"
   ]
  },
  {
   "cell_type": "code",
   "execution_count": 142,
   "id": "29f4ea9a",
   "metadata": {},
   "outputs": [],
   "source": [
    "def sprs_RandomSearch(param_grid, model, train, test):\n",
    "    '''\n",
    "    Funtion takes a param grid and a surprise model, them performs random search and scores it.\n",
    "    Returns the RMSE, best model parameters, and the suprise prediction set.\n",
    "    '''\n",
    "    # Set up and fit the random search\n",
    "    random_search = RandomizedSearchCV(model, param_grid, measures=['rmse', 'mae'], cv=5, n_iter=20, n_jobs=6)\n",
    "    random_search.fit(train)\n",
    "    algo = random_search.best_estimator['rmse']\n",
    "    \n",
    "    # With best set of params, fit and score model\n",
    "    trainset = train.build_full_trainset()\n",
    "    algo.fit(trainset)\n",
    "    \n",
    "    testset = train.construct_testset(test.raw_ratings)\n",
    "    pred = algo.test(testset)\n",
    "    \n",
    "    return accuracy.rmse(pred), random_search.best_params, pred"
   ]
  },
  {
   "cell_type": "code",
   "execution_count": 143,
   "id": "3e14b51c",
   "metadata": {
    "scrolled": true
   },
   "outputs": [
    {
     "name": "stdout",
     "output_type": "stream",
     "text": [
      "Estimating biases using als...\n",
      "Computing the msd similarity matrix...\n",
      "Done computing similarity matrix.\n",
      "RMSE: 1.4313\n",
      "Wall time: 48.9 s\n"
     ]
    },
    {
     "data": {
      "text/plain": [
       "1.4312883262123701"
      ]
     },
     "execution_count": 143,
     "metadata": {},
     "output_type": "execute_result"
    }
   ],
   "source": [
    "%%time\n",
    "# User Based KNNBasic grid search\n",
    "KNNBaseline_params = {'k':list(range(50, 150)), 'sim_options':{'name':['cosine', 'pearson', 'msd'], 'user_based':[True]}}\n",
    "KNNBaseline_rmse, KNNBaseline_bestParams, KNNBaseline_pred = sprs_RandomSearch(KNNBaseline_params, KNNBaseline, Traindata, Testdata)\n",
    "KNNBaseline_rmse"
   ]
  },
  {
   "cell_type": "code",
   "execution_count": 144,
   "id": "a192de2d",
   "metadata": {},
   "outputs": [
    {
     "data": {
      "text/plain": [
       "{'rmse': {'k': 75, 'sim_options': {'name': 'msd', 'user_based': True}},\n",
       " 'mae': {'k': 75, 'sim_options': {'name': 'msd', 'user_based': True}}}"
      ]
     },
     "execution_count": 144,
     "metadata": {},
     "output_type": "execute_result"
    }
   ],
   "source": [
    "KNNBaseline_bestParams"
   ]
  },
  {
   "cell_type": "code",
   "execution_count": null,
   "id": "a9758284",
   "metadata": {},
   "outputs": [],
   "source": []
  },
  {
   "cell_type": "code",
   "execution_count": 145,
   "id": "4bafaeb6",
   "metadata": {
    "scrolled": true
   },
   "outputs": [
    {
     "name": "stdout",
     "output_type": "stream",
     "text": [
      "Estimating biases using als...\n",
      "Computing the cosine similarity matrix...\n",
      "Done computing similarity matrix.\n",
      "RMSE: 1.4317\n",
      "Wall time: 27 s\n"
     ]
    },
    {
     "data": {
      "text/plain": [
       "1.43171252799988"
      ]
     },
     "execution_count": 145,
     "metadata": {},
     "output_type": "execute_result"
    }
   ],
   "source": [
    "%%time\n",
    "# Item Based KNNBasic random search\n",
    "KNNBaseline_params = {'k':list(range(40, 150)), 'sim_options':{'name':['cosine', 'pearson', 'msd'], 'user_based':[True]}}\n",
    "KNNBaseline_rmse, KNNBaseline_bestParams, KNNBaseline_pred = sprs_RandomSearch(KNNBaseline_params, KNNBaseline, ItemTrain, ItemTest)\n",
    "KNNBaseline_rmse"
   ]
  },
  {
   "cell_type": "code",
   "execution_count": 146,
   "id": "6b6278ac",
   "metadata": {},
   "outputs": [
    {
     "data": {
      "text/plain": [
       "{'rmse': {'k': 40, 'sim_options': {'name': 'cosine', 'user_based': True}},\n",
       " 'mae': {'k': 69, 'sim_options': {'name': 'msd', 'user_based': True}}}"
      ]
     },
     "execution_count": 146,
     "metadata": {},
     "output_type": "execute_result"
    }
   ],
   "source": [
    "KNNBaseline_bestParams"
   ]
  },
  {
   "cell_type": "code",
   "execution_count": null,
   "id": "6f56b92c",
   "metadata": {},
   "outputs": [],
   "source": []
  },
  {
   "cell_type": "code",
   "execution_count": 147,
   "id": "4f0069cf",
   "metadata": {},
   "outputs": [
    {
     "name": "stdout",
     "output_type": "stream",
     "text": [
      "RMSE: 1.4393\n",
      "Wall time: 1min 28s\n"
     ]
    },
    {
     "data": {
      "text/plain": [
       "1.4393180746738439"
      ]
     },
     "execution_count": 147,
     "metadata": {},
     "output_type": "execute_result"
    }
   ],
   "source": [
    "%%time\n",
    "# SVD User based Random Search\n",
    "param_grid = {'n_factors':list(range(50, 150)), 'n_epochs':list(range(10,100)), 'lr_all':np.arange(0.001, 0.01, 0.001)}\n",
    "SVD_rmse, SVD_bestParams, SVD_pred = sprs_RandomSearch(param_grid, SVD, Traindata, Testdata)\n",
    "SVD_rmse"
   ]
  },
  {
   "cell_type": "code",
   "execution_count": 148,
   "id": "8dcd70eb",
   "metadata": {},
   "outputs": [
    {
     "data": {
      "text/plain": [
       "{'rmse': {'n_factors': 72, 'n_epochs': 10, 'lr_all': 0.005},\n",
       " 'mae': {'n_factors': 57, 'n_epochs': 39, 'lr_all': 0.003}}"
      ]
     },
     "execution_count": 148,
     "metadata": {},
     "output_type": "execute_result"
    }
   ],
   "source": [
    "SVD_bestParams"
   ]
  },
  {
   "cell_type": "code",
   "execution_count": null,
   "id": "fc2c8abe",
   "metadata": {},
   "outputs": [],
   "source": []
  },
  {
   "cell_type": "code",
   "execution_count": 149,
   "id": "b038ef41",
   "metadata": {},
   "outputs": [
    {
     "name": "stdout",
     "output_type": "stream",
     "text": [
      "RMSE: 1.4428\n",
      "Wall time: 1min 18s\n"
     ]
    },
    {
     "data": {
      "text/plain": [
       "1.4427899121952827"
      ]
     },
     "execution_count": 149,
     "metadata": {},
     "output_type": "execute_result"
    }
   ],
   "source": [
    "%%time\n",
    "# SVD Item based Random Search\n",
    "param_grid = {'n_factors':list(range(30, 130)), 'n_epochs':list(range(10,100)), 'lr_all':np.arange(0.001, 0.01, 0.001)}\n",
    "SVD_rmse, SVD_bestParams, SVD_pred = sprs_RandomSearch(param_grid, SVD, ItemTrain, ItemTest)\n",
    "SVD_rmse"
   ]
  },
  {
   "cell_type": "code",
   "execution_count": 150,
   "id": "2b7e7337",
   "metadata": {},
   "outputs": [
    {
     "data": {
      "text/plain": [
       "{'rmse': {'n_factors': 43, 'n_epochs': 55, 'lr_all': 0.001},\n",
       " 'mae': {'n_factors': 80, 'n_epochs': 91, 'lr_all': 0.001}}"
      ]
     },
     "execution_count": 150,
     "metadata": {},
     "output_type": "execute_result"
    }
   ],
   "source": [
    "SVD_bestParams"
   ]
  },
  {
   "cell_type": "code",
   "execution_count": null,
   "id": "7e77577a",
   "metadata": {},
   "outputs": [],
   "source": []
  },
  {
   "cell_type": "code",
   "execution_count": null,
   "id": "0cf776e3",
   "metadata": {},
   "outputs": [],
   "source": []
  },
  {
   "cell_type": "code",
   "execution_count": 151,
   "id": "a7214181",
   "metadata": {
    "scrolled": true
   },
   "outputs": [
    {
     "name": "stdout",
     "output_type": "stream",
     "text": [
      "RMSE: 1.4182\n",
      "Wall time: 11min 35s\n"
     ]
    },
    {
     "data": {
      "text/plain": [
       "1.4182386081748322"
      ]
     },
     "execution_count": 151,
     "metadata": {},
     "output_type": "execute_result"
    }
   ],
   "source": [
    "%%time\n",
    "# User Based SVD++ \n",
    "SVDpp_params = {'n_factors':list(range(5,40)), 'n_epochs':list(range(5, 50)), 'lr_all':np.arange(.001, .01, .001)}\n",
    "SVDpp_rmse, SVDpp_bestParams, SVDpp_pred = sprs_RandomSearch(SVDpp_params, SVDpp, Traindata, Testdata)\n",
    "SVDpp_rmse"
   ]
  },
  {
   "cell_type": "code",
   "execution_count": 152,
   "id": "8f57ec74",
   "metadata": {},
   "outputs": [
    {
     "data": {
      "text/plain": [
       "{'rmse': {'n_factors': 32, 'n_epochs': 10, 'lr_all': 0.007},\n",
       " 'mae': {'n_factors': 18, 'n_epochs': 30, 'lr_all': 0.003}}"
      ]
     },
     "execution_count": 152,
     "metadata": {},
     "output_type": "execute_result"
    }
   ],
   "source": [
    "SVDpp_bestParams"
   ]
  },
  {
   "cell_type": "code",
   "execution_count": null,
   "id": "98c25e03",
   "metadata": {},
   "outputs": [],
   "source": []
  },
  {
   "cell_type": "code",
   "execution_count": 83,
   "id": "1ab630d5",
   "metadata": {},
   "outputs": [
    {
     "name": "stdout",
     "output_type": "stream",
     "text": [
      "RMSE: 1.4298\n",
      "Wall time: 27min 41s\n"
     ]
    },
    {
     "data": {
      "text/plain": [
       "1.4297979028535472"
      ]
     },
     "execution_count": 83,
     "metadata": {},
     "output_type": "execute_result"
    }
   ],
   "source": [
    "%%time\n",
    "# Item Based SVD++\n",
    "SVDpp_params = {'n_factors':list(range(5,40)), 'n_epochs':list(range(5, 50)), 'lr_all':np.arange(.001, .01, .001)}\n",
    "SVDpp_rmse, SVDpp_bestParams, SVDpp_pred = sprs_RandomSearch(SVDpp_params, SVDpp, ItemTrain, ItemTest)\n",
    "SVDpp_rmse"
   ]
  },
  {
   "cell_type": "code",
   "execution_count": 84,
   "id": "722f344c",
   "metadata": {},
   "outputs": [
    {
     "data": {
      "text/plain": [
       "{'rmse': {'n_factors': 35, 'n_epochs': 19, 'lr_all': 0.004},\n",
       " 'mae': {'n_factors': 38, 'n_epochs': 25, 'lr_all': 0.004}}"
      ]
     },
     "execution_count": 84,
     "metadata": {},
     "output_type": "execute_result"
    }
   ],
   "source": [
    "SVDpp_bestParams"
   ]
  },
  {
   "cell_type": "markdown",
   "id": "b528fd08",
   "metadata": {},
   "source": [
    "After tuning the models SVD++ preforms better than KNN."
   ]
  },
  {
   "cell_type": "markdown",
   "id": "6856ffa1",
   "metadata": {},
   "source": [
    "### Generate User Predictions\n",
    "Using the best performing model in the suprise library (SVD++) I'll now generate a list of predictions for myself and five other friends to see how effective the recomendations are."
   ]
  },
  {
   "cell_type": "code",
   "execution_count": 467,
   "id": "e4898931",
   "metadata": {},
   "outputs": [
    {
     "name": "stdout",
     "output_type": "stream",
     "text": [
      "RMSE: 1.4154\n"
     ]
    },
    {
     "data": {
      "text/plain": [
       "1.4153523518915891"
      ]
     },
     "execution_count": 467,
     "metadata": {},
     "output_type": "execute_result"
    }
   ],
   "source": [
    "model = SVDpp(n_factors=32, n_epochs=10, lr_all=0.007)\n",
    "model.fit(train)\n",
    "pred = model.test(test)\n",
    "accuracy.rmse(pred)"
   ]
  },
  {
   "cell_type": "code",
   "execution_count": 519,
   "id": "7927cf1b",
   "metadata": {},
   "outputs": [],
   "source": [
    "# Check precision@k for comparison with LighFM\n",
    "# Code adapted from example in Suprise documentation \n",
    "# (https://surprise.readthedocs.io/en/latest/FAQ.html#how-to-compute-precision-k-and-recall-k)\n",
    "\n",
    "def precision_k(pred, k=100, threshold=4.5158):\n",
    "    user_pred_est = defaultdict(list)\n",
    "    \n",
    "    for uid, iid, true, est, detail in pred:\n",
    "        user_pred_est[uid].append((est, true))\n",
    "        \n",
    "    precision = dict()\n",
    "    \n",
    "    for uid, ratings in user_pred_est.items():\n",
    "        \n",
    "        ratings.sort(key=lambda x: x[0], reverse=True)\n",
    "        \n",
    "        recommended_at_k = sum((est>=threshold) for (est, true) in ratings[:k])\n",
    "        \n",
    "        relevant_and_estimated_at_k = sum(((true>=threshold) and (est>=threshold) for (est, true) in ratings[:k]))\n",
    "        \n",
    "        precision[uid] = relevant_and_estimated_at_k / recommended_at_k if recommended_at_k!=0 else 0\n",
    "    \n",
    "    return precision"
   ]
  },
  {
   "cell_type": "code",
   "execution_count": 528,
   "id": "382e10cd",
   "metadata": {
    "scrolled": true
   },
   "outputs": [
    {
     "name": "stdout",
     "output_type": "stream",
     "text": [
      "Precision@k: 0.046789989118607184\n"
     ]
    }
   ],
   "source": [
    "pATk = precision_k(pred)\n",
    "p = np.mean(list(pATk.values()))\n",
    "print('Precision@k:', p)"
   ]
  },
  {
   "cell_type": "code",
   "execution_count": 434,
   "id": "37c713f9",
   "metadata": {},
   "outputs": [],
   "source": [
    "uids = [(\"Max\", 76561198043116852), (\"Sam\", 76561198030495862), (\"Flan\", 76561198067694858),\n",
    "        (\"Ben\", 76561198067474658), (\"Julian\", 76561198025619021), (\"Blake\", 76561198050349457)]\n",
    "\n",
    "games = reducedMatrix.columns.values\n",
    "\n",
    "for i in uids:\n",
    "    \n",
    "    recomendations = {'game':[], 'pred_score':[]}\n",
    "\n",
    "    for g in games:\n",
    "        pred = model.predict(i[1], g)\n",
    "        recomendations['game'].append(pred[1])\n",
    "        recomendations['pred_score'].append(pred[3])\n",
    "    \n",
    "    recomendation = pd.DataFrame(recomendations)\n",
    "    recomendation.sort_values(by='pred_score', ascending=False, inplace=True)\n",
    "    user_ids = dfReduced.loc[dfReduced.userID==i[1], 'gameName']\n",
    "    recomendation = recomendation.loc[~recomendation.game.isin(user_ids)]\n",
    "    \n",
    "    recomendation.to_csv(\"SVD++user{}{}.csv\".format(i[0], i[1]))"
   ]
  },
  {
   "cell_type": "code",
   "execution_count": null,
   "id": "7e4299cc",
   "metadata": {},
   "outputs": [],
   "source": []
  },
  {
   "cell_type": "code",
   "execution_count": null,
   "id": "0fc149eb",
   "metadata": {},
   "outputs": [],
   "source": []
  },
  {
   "cell_type": "markdown",
   "id": "1ae1ec4f",
   "metadata": {},
   "source": [
    "# LightFM with Steam Data\n",
    "Final model will be created using LightFM. This model allows for both basic collabortive filtering and a hybrid approach that incorporates item features."
   ]
  },
  {
   "cell_type": "code",
   "execution_count": 435,
   "id": "570fc075",
   "metadata": {},
   "outputs": [],
   "source": [
    "import lightfm as lt\n",
    "import scipy\n",
    "from lightfm.datasets import fetch_movielens\n",
    "from lightfm.evaluation import auc_score, precision_at_k\n",
    "from lightfm.cross_validation import random_train_test_split"
   ]
  },
  {
   "cell_type": "code",
   "execution_count": 436,
   "id": "56412c39",
   "metadata": {},
   "outputs": [
    {
     "data": {
      "text/html": [
       "<div>\n",
       "<style scoped>\n",
       "    .dataframe tbody tr th:only-of-type {\n",
       "        vertical-align: middle;\n",
       "    }\n",
       "\n",
       "    .dataframe tbody tr th {\n",
       "        vertical-align: top;\n",
       "    }\n",
       "\n",
       "    .dataframe thead th {\n",
       "        text-align: right;\n",
       "    }\n",
       "</style>\n",
       "<table border=\"1\" class=\"dataframe\">\n",
       "  <thead>\n",
       "    <tr style=\"text-align: right;\">\n",
       "      <th></th>\n",
       "      <th>userID</th>\n",
       "      <th>gameName</th>\n",
       "      <th>playHours</th>\n",
       "      <th>rating</th>\n",
       "      <th>appid</th>\n",
       "      <th>developer</th>\n",
       "      <th>publisher</th>\n",
       "      <th>1980s</th>\n",
       "      <th>1990's</th>\n",
       "      <th>2.5D</th>\n",
       "      <th>...</th>\n",
       "      <th>Snowboarding</th>\n",
       "      <th>Social Deduction</th>\n",
       "      <th>Video Production</th>\n",
       "      <th>Vikings</th>\n",
       "      <th>Warhammer 40K</th>\n",
       "      <th>Werewolves</th>\n",
       "      <th>Bikes</th>\n",
       "      <th>Card Battler</th>\n",
       "      <th>Deckbuilding</th>\n",
       "      <th>split</th>\n",
       "    </tr>\n",
       "  </thead>\n",
       "  <tbody>\n",
       "    <tr>\n",
       "      <th>0</th>\n",
       "      <td>48028873</td>\n",
       "      <td>100% orange juice</td>\n",
       "      <td>1.8</td>\n",
       "      <td>4.0</td>\n",
       "      <td>282800.0</td>\n",
       "      <td>Orange_Juice</td>\n",
       "      <td>Fruitbat Factory</td>\n",
       "      <td>0.0</td>\n",
       "      <td>0.0</td>\n",
       "      <td>0</td>\n",
       "      <td>...</td>\n",
       "      <td>NaN</td>\n",
       "      <td>NaN</td>\n",
       "      <td>NaN</td>\n",
       "      <td>NaN</td>\n",
       "      <td>NaN</td>\n",
       "      <td>NaN</td>\n",
       "      <td>NaN</td>\n",
       "      <td>NaN</td>\n",
       "      <td>NaN</td>\n",
       "      <td>train</td>\n",
       "    </tr>\n",
       "    <tr>\n",
       "      <th>1</th>\n",
       "      <td>88525821</td>\n",
       "      <td>100% orange juice</td>\n",
       "      <td>0.9</td>\n",
       "      <td>2.0</td>\n",
       "      <td>282800.0</td>\n",
       "      <td>Orange_Juice</td>\n",
       "      <td>Fruitbat Factory</td>\n",
       "      <td>0.0</td>\n",
       "      <td>0.0</td>\n",
       "      <td>0</td>\n",
       "      <td>...</td>\n",
       "      <td>NaN</td>\n",
       "      <td>NaN</td>\n",
       "      <td>NaN</td>\n",
       "      <td>NaN</td>\n",
       "      <td>NaN</td>\n",
       "      <td>NaN</td>\n",
       "      <td>NaN</td>\n",
       "      <td>NaN</td>\n",
       "      <td>NaN</td>\n",
       "      <td>train</td>\n",
       "    </tr>\n",
       "    <tr>\n",
       "      <th>2</th>\n",
       "      <td>93644606</td>\n",
       "      <td>100% orange juice</td>\n",
       "      <td>3.1</td>\n",
       "      <td>4.0</td>\n",
       "      <td>282800.0</td>\n",
       "      <td>Orange_Juice</td>\n",
       "      <td>Fruitbat Factory</td>\n",
       "      <td>0.0</td>\n",
       "      <td>0.0</td>\n",
       "      <td>0</td>\n",
       "      <td>...</td>\n",
       "      <td>NaN</td>\n",
       "      <td>NaN</td>\n",
       "      <td>NaN</td>\n",
       "      <td>NaN</td>\n",
       "      <td>NaN</td>\n",
       "      <td>NaN</td>\n",
       "      <td>NaN</td>\n",
       "      <td>NaN</td>\n",
       "      <td>NaN</td>\n",
       "      <td>train</td>\n",
       "    </tr>\n",
       "    <tr>\n",
       "      <th>3</th>\n",
       "      <td>115996656</td>\n",
       "      <td>100% orange juice</td>\n",
       "      <td>2.5</td>\n",
       "      <td>5.0</td>\n",
       "      <td>282800.0</td>\n",
       "      <td>Orange_Juice</td>\n",
       "      <td>Fruitbat Factory</td>\n",
       "      <td>0.0</td>\n",
       "      <td>0.0</td>\n",
       "      <td>0</td>\n",
       "      <td>...</td>\n",
       "      <td>NaN</td>\n",
       "      <td>NaN</td>\n",
       "      <td>NaN</td>\n",
       "      <td>NaN</td>\n",
       "      <td>NaN</td>\n",
       "      <td>NaN</td>\n",
       "      <td>NaN</td>\n",
       "      <td>NaN</td>\n",
       "      <td>NaN</td>\n",
       "      <td>train</td>\n",
       "    </tr>\n",
       "    <tr>\n",
       "      <th>4</th>\n",
       "      <td>125017535</td>\n",
       "      <td>100% orange juice</td>\n",
       "      <td>0.7</td>\n",
       "      <td>3.0</td>\n",
       "      <td>282800.0</td>\n",
       "      <td>Orange_Juice</td>\n",
       "      <td>Fruitbat Factory</td>\n",
       "      <td>0.0</td>\n",
       "      <td>0.0</td>\n",
       "      <td>0</td>\n",
       "      <td>...</td>\n",
       "      <td>NaN</td>\n",
       "      <td>NaN</td>\n",
       "      <td>NaN</td>\n",
       "      <td>NaN</td>\n",
       "      <td>NaN</td>\n",
       "      <td>NaN</td>\n",
       "      <td>NaN</td>\n",
       "      <td>NaN</td>\n",
       "      <td>NaN</td>\n",
       "      <td>train</td>\n",
       "    </tr>\n",
       "  </tbody>\n",
       "</table>\n",
       "<p>5 rows × 389 columns</p>\n",
       "</div>"
      ],
      "text/plain": [
       "      userID           gameName  playHours  rating     appid     developer  \\\n",
       "0   48028873  100% orange juice        1.8     4.0  282800.0  Orange_Juice   \n",
       "1   88525821  100% orange juice        0.9     2.0  282800.0  Orange_Juice   \n",
       "2   93644606  100% orange juice        3.1     4.0  282800.0  Orange_Juice   \n",
       "3  115996656  100% orange juice        2.5     5.0  282800.0  Orange_Juice   \n",
       "4  125017535  100% orange juice        0.7     3.0  282800.0  Orange_Juice   \n",
       "\n",
       "          publisher  1980s  1990's  2.5D  ...  Snowboarding  Social Deduction  \\\n",
       "0  Fruitbat Factory    0.0     0.0     0  ...           NaN               NaN   \n",
       "1  Fruitbat Factory    0.0     0.0     0  ...           NaN               NaN   \n",
       "2  Fruitbat Factory    0.0     0.0     0  ...           NaN               NaN   \n",
       "3  Fruitbat Factory    0.0     0.0     0  ...           NaN               NaN   \n",
       "4  Fruitbat Factory    0.0     0.0     0  ...           NaN               NaN   \n",
       "\n",
       "   Video Production  Vikings  Warhammer 40K  Werewolves  Bikes  Card Battler  \\\n",
       "0               NaN      NaN            NaN         NaN    NaN           NaN   \n",
       "1               NaN      NaN            NaN         NaN    NaN           NaN   \n",
       "2               NaN      NaN            NaN         NaN    NaN           NaN   \n",
       "3               NaN      NaN            NaN         NaN    NaN           NaN   \n",
       "4               NaN      NaN            NaN         NaN    NaN           NaN   \n",
       "\n",
       "   Deckbuilding  split  \n",
       "0           NaN  train  \n",
       "1           NaN  train  \n",
       "2           NaN  train  \n",
       "3           NaN  train  \n",
       "4           NaN  train  \n",
       "\n",
       "[5 rows x 389 columns]"
      ]
     },
     "execution_count": 436,
     "metadata": {},
     "output_type": "execute_result"
    }
   ],
   "source": [
    "LFMdf = dfReduced.copy()\n",
    "\n",
    "LFMdf.head()"
   ]
  },
  {
   "cell_type": "code",
   "execution_count": 437,
   "id": "a439171d",
   "metadata": {},
   "outputs": [
    {
     "data": {
      "text/plain": [
       "(59458, 389)"
      ]
     },
     "execution_count": 437,
     "metadata": {},
     "output_type": "execute_result"
    }
   ],
   "source": [
    "dfReduced.shape"
   ]
  },
  {
   "cell_type": "markdown",
   "id": "0a21a35b",
   "metadata": {},
   "source": [
    "#### Create train and test user interaction matricies\n",
    "Unlike in previous models, the train and test matrix need to be the same shape containing only there respective interactions and zeros (ie. no interaction should be filled with 0 not nan)"
   ]
  },
  {
   "cell_type": "code",
   "execution_count": 438,
   "id": "58aa4599",
   "metadata": {},
   "outputs": [],
   "source": [
    "# Prep train and test data\n",
    "LFMtrain = LFMdf.copy()\n",
    "LFMtrain.loc[LFMtrain.split=='test', 'rating'] = 0\n",
    "\n",
    "LFMtest = LFMdf.copy()\n",
    "LFMtest.loc[LFMdf.split=='train', 'rating'] = 0"
   ]
  },
  {
   "cell_type": "code",
   "execution_count": 439,
   "id": "2d78e783",
   "metadata": {},
   "outputs": [
    {
     "data": {
      "text/plain": [
       "((59458, 389), (59458, 389))"
      ]
     },
     "execution_count": 439,
     "metadata": {},
     "output_type": "execute_result"
    }
   ],
   "source": [
    "LFMtrain.fillna(value=0, inplace=True)\n",
    "LFMtest.fillna(value=0, inplace=True)\n",
    "LFMtrain.shape, LFMtest.shape"
   ]
  },
  {
   "cell_type": "code",
   "execution_count": 440,
   "id": "ea008e9f",
   "metadata": {},
   "outputs": [
    {
     "data": {
      "text/html": [
       "<div>\n",
       "<style scoped>\n",
       "    .dataframe tbody tr th:only-of-type {\n",
       "        vertical-align: middle;\n",
       "    }\n",
       "\n",
       "    .dataframe tbody tr th {\n",
       "        vertical-align: top;\n",
       "    }\n",
       "\n",
       "    .dataframe thead th {\n",
       "        text-align: right;\n",
       "    }\n",
       "</style>\n",
       "<table border=\"1\" class=\"dataframe\">\n",
       "  <thead>\n",
       "    <tr style=\"text-align: right;\">\n",
       "      <th>appid</th>\n",
       "      <th>10.0</th>\n",
       "      <th>20.0</th>\n",
       "      <th>30.0</th>\n",
       "      <th>40.0</th>\n",
       "      <th>50.0</th>\n",
       "      <th>60.0</th>\n",
       "      <th>70.0</th>\n",
       "      <th>80.0</th>\n",
       "      <th>100.0</th>\n",
       "      <th>130.0</th>\n",
       "      <th>...</th>\n",
       "      <th>389300.0</th>\n",
       "      <th>389570.0</th>\n",
       "      <th>391460.0</th>\n",
       "      <th>391540.0</th>\n",
       "      <th>391720.0</th>\n",
       "      <th>393380.0</th>\n",
       "      <th>417860.0</th>\n",
       "      <th>439700.0</th>\n",
       "      <th>1237950.0</th>\n",
       "      <th>1916830.0</th>\n",
       "    </tr>\n",
       "    <tr>\n",
       "      <th>userID</th>\n",
       "      <th></th>\n",
       "      <th></th>\n",
       "      <th></th>\n",
       "      <th></th>\n",
       "      <th></th>\n",
       "      <th></th>\n",
       "      <th></th>\n",
       "      <th></th>\n",
       "      <th></th>\n",
       "      <th></th>\n",
       "      <th></th>\n",
       "      <th></th>\n",
       "      <th></th>\n",
       "      <th></th>\n",
       "      <th></th>\n",
       "      <th></th>\n",
       "      <th></th>\n",
       "      <th></th>\n",
       "      <th></th>\n",
       "      <th></th>\n",
       "      <th></th>\n",
       "    </tr>\n",
       "  </thead>\n",
       "  <tbody>\n",
       "    <tr>\n",
       "      <th>298950</th>\n",
       "      <td>0.0</td>\n",
       "      <td>0.0</td>\n",
       "      <td>0.0</td>\n",
       "      <td>0.0</td>\n",
       "      <td>0.0</td>\n",
       "      <td>0.0</td>\n",
       "      <td>0.0</td>\n",
       "      <td>0.0</td>\n",
       "      <td>0.0</td>\n",
       "      <td>0.0</td>\n",
       "      <td>...</td>\n",
       "      <td>0.0</td>\n",
       "      <td>0.0</td>\n",
       "      <td>0.0</td>\n",
       "      <td>0.0</td>\n",
       "      <td>0.0</td>\n",
       "      <td>0.0</td>\n",
       "      <td>0.0</td>\n",
       "      <td>0.0</td>\n",
       "      <td>0.0</td>\n",
       "      <td>0.0</td>\n",
       "    </tr>\n",
       "    <tr>\n",
       "      <th>561758</th>\n",
       "      <td>0.0</td>\n",
       "      <td>0.0</td>\n",
       "      <td>0.0</td>\n",
       "      <td>0.0</td>\n",
       "      <td>0.0</td>\n",
       "      <td>0.0</td>\n",
       "      <td>1.0</td>\n",
       "      <td>0.0</td>\n",
       "      <td>0.0</td>\n",
       "      <td>0.0</td>\n",
       "      <td>...</td>\n",
       "      <td>0.0</td>\n",
       "      <td>0.0</td>\n",
       "      <td>0.0</td>\n",
       "      <td>0.0</td>\n",
       "      <td>0.0</td>\n",
       "      <td>0.0</td>\n",
       "      <td>0.0</td>\n",
       "      <td>0.0</td>\n",
       "      <td>0.0</td>\n",
       "      <td>0.0</td>\n",
       "    </tr>\n",
       "    <tr>\n",
       "      <th>975449</th>\n",
       "      <td>0.0</td>\n",
       "      <td>0.0</td>\n",
       "      <td>0.0</td>\n",
       "      <td>0.0</td>\n",
       "      <td>0.0</td>\n",
       "      <td>0.0</td>\n",
       "      <td>2.0</td>\n",
       "      <td>0.0</td>\n",
       "      <td>0.0</td>\n",
       "      <td>0.0</td>\n",
       "      <td>...</td>\n",
       "      <td>0.0</td>\n",
       "      <td>0.0</td>\n",
       "      <td>0.0</td>\n",
       "      <td>0.0</td>\n",
       "      <td>0.0</td>\n",
       "      <td>0.0</td>\n",
       "      <td>0.0</td>\n",
       "      <td>0.0</td>\n",
       "      <td>0.0</td>\n",
       "      <td>0.0</td>\n",
       "    </tr>\n",
       "    <tr>\n",
       "      <th>1936551</th>\n",
       "      <td>0.0</td>\n",
       "      <td>0.0</td>\n",
       "      <td>5.0</td>\n",
       "      <td>0.0</td>\n",
       "      <td>0.0</td>\n",
       "      <td>0.0</td>\n",
       "      <td>0.0</td>\n",
       "      <td>0.0</td>\n",
       "      <td>0.0</td>\n",
       "      <td>0.0</td>\n",
       "      <td>...</td>\n",
       "      <td>0.0</td>\n",
       "      <td>0.0</td>\n",
       "      <td>0.0</td>\n",
       "      <td>0.0</td>\n",
       "      <td>0.0</td>\n",
       "      <td>0.0</td>\n",
       "      <td>0.0</td>\n",
       "      <td>0.0</td>\n",
       "      <td>0.0</td>\n",
       "      <td>0.0</td>\n",
       "    </tr>\n",
       "    <tr>\n",
       "      <th>1950243</th>\n",
       "      <td>0.0</td>\n",
       "      <td>0.0</td>\n",
       "      <td>0.0</td>\n",
       "      <td>0.0</td>\n",
       "      <td>0.0</td>\n",
       "      <td>0.0</td>\n",
       "      <td>0.0</td>\n",
       "      <td>0.0</td>\n",
       "      <td>0.0</td>\n",
       "      <td>0.0</td>\n",
       "      <td>...</td>\n",
       "      <td>0.0</td>\n",
       "      <td>0.0</td>\n",
       "      <td>0.0</td>\n",
       "      <td>0.0</td>\n",
       "      <td>0.0</td>\n",
       "      <td>0.0</td>\n",
       "      <td>0.0</td>\n",
       "      <td>0.0</td>\n",
       "      <td>0.0</td>\n",
       "      <td>0.0</td>\n",
       "    </tr>\n",
       "  </tbody>\n",
       "</table>\n",
       "<p>5 rows × 619 columns</p>\n",
       "</div>"
      ],
      "text/plain": [
       "appid    10.0       20.0       30.0       40.0       50.0       60.0       \\\n",
       "userID                                                                      \n",
       "298950         0.0        0.0        0.0        0.0        0.0        0.0   \n",
       "561758         0.0        0.0        0.0        0.0        0.0        0.0   \n",
       "975449         0.0        0.0        0.0        0.0        0.0        0.0   \n",
       "1936551        0.0        0.0        5.0        0.0        0.0        0.0   \n",
       "1950243        0.0        0.0        0.0        0.0        0.0        0.0   \n",
       "\n",
       "appid    70.0       80.0       100.0      130.0      ...  389300.0   \\\n",
       "userID                                               ...              \n",
       "298950         0.0        0.0        0.0        0.0  ...        0.0   \n",
       "561758         1.0        0.0        0.0        0.0  ...        0.0   \n",
       "975449         2.0        0.0        0.0        0.0  ...        0.0   \n",
       "1936551        0.0        0.0        0.0        0.0  ...        0.0   \n",
       "1950243        0.0        0.0        0.0        0.0  ...        0.0   \n",
       "\n",
       "appid    389570.0   391460.0   391540.0   391720.0   393380.0   417860.0   \\\n",
       "userID                                                                      \n",
       "298950         0.0        0.0        0.0        0.0        0.0        0.0   \n",
       "561758         0.0        0.0        0.0        0.0        0.0        0.0   \n",
       "975449         0.0        0.0        0.0        0.0        0.0        0.0   \n",
       "1936551        0.0        0.0        0.0        0.0        0.0        0.0   \n",
       "1950243        0.0        0.0        0.0        0.0        0.0        0.0   \n",
       "\n",
       "appid    439700.0   1237950.0  1916830.0  \n",
       "userID                                    \n",
       "298950         0.0        0.0        0.0  \n",
       "561758         0.0        0.0        0.0  \n",
       "975449         0.0        0.0        0.0  \n",
       "1936551        0.0        0.0        0.0  \n",
       "1950243        0.0        0.0        0.0  \n",
       "\n",
       "[5 rows x 619 columns]"
      ]
     },
     "execution_count": 440,
     "metadata": {},
     "output_type": "execute_result"
    }
   ],
   "source": [
    "allInteractions = LFMdf.pivot(index='userID', values='rating', columns='appid')\n",
    "allInteractions.fillna(value=0, inplace=True)\n",
    "\n",
    "TrainInteractionsDF = LFMtrain[['userID', 'appid', 'rating']]\n",
    "TrainInteractionsMatrix = LFMtrain.pivot(index='userID', values='rating', columns='appid')\n",
    "TrainInteractionsMatrix.fillna(value=0, inplace=True)\n",
    "\n",
    "TestInteractionsDF = LFMtest[['userID', 'appid', 'rating']]\n",
    "TestInteractionsMatrix = LFMtest.pivot(index='userID', values='rating', columns='appid')\n",
    "TestInteractionsMatrix.fillna(value=0, inplace=True)\n",
    "TestInteractionsMatrix.head()"
   ]
  },
  {
   "cell_type": "code",
   "execution_count": null,
   "id": "d063f239",
   "metadata": {
    "scrolled": true
   },
   "outputs": [],
   "source": []
  },
  {
   "cell_type": "markdown",
   "id": "f3a24d13",
   "metadata": {},
   "source": [
    "#### Item features\n",
    "Feature matrix, with missing values again filled with 0 not nan"
   ]
  },
  {
   "cell_type": "code",
   "execution_count": 441,
   "id": "c2ce6651",
   "metadata": {},
   "outputs": [
    {
     "data": {
      "text/html": [
       "<div>\n",
       "<style scoped>\n",
       "    .dataframe tbody tr th:only-of-type {\n",
       "        vertical-align: middle;\n",
       "    }\n",
       "\n",
       "    .dataframe tbody tr th {\n",
       "        vertical-align: top;\n",
       "    }\n",
       "\n",
       "    .dataframe thead th {\n",
       "        text-align: right;\n",
       "    }\n",
       "</style>\n",
       "<table border=\"1\" class=\"dataframe\">\n",
       "  <thead>\n",
       "    <tr style=\"text-align: right;\">\n",
       "      <th></th>\n",
       "      <th>appid</th>\n",
       "      <th>developer</th>\n",
       "      <th>publisher</th>\n",
       "      <th>1980s</th>\n",
       "      <th>1990's</th>\n",
       "      <th>2.5D</th>\n",
       "      <th>2D</th>\n",
       "      <th>2D Fighter</th>\n",
       "      <th>2D Platformer</th>\n",
       "      <th>3D</th>\n",
       "      <th>...</th>\n",
       "      <th>Snow</th>\n",
       "      <th>Snowboarding</th>\n",
       "      <th>Social Deduction</th>\n",
       "      <th>Video Production</th>\n",
       "      <th>Vikings</th>\n",
       "      <th>Warhammer 40K</th>\n",
       "      <th>Werewolves</th>\n",
       "      <th>Bikes</th>\n",
       "      <th>Card Battler</th>\n",
       "      <th>Deckbuilding</th>\n",
       "    </tr>\n",
       "  </thead>\n",
       "  <tbody>\n",
       "    <tr>\n",
       "      <th>0</th>\n",
       "      <td>282800.0</td>\n",
       "      <td>Orange_Juice</td>\n",
       "      <td>Fruitbat Factory</td>\n",
       "      <td>0.0</td>\n",
       "      <td>0.0</td>\n",
       "      <td>0</td>\n",
       "      <td>1</td>\n",
       "      <td>0</td>\n",
       "      <td>0.0</td>\n",
       "      <td>0</td>\n",
       "      <td>...</td>\n",
       "      <td>0.0</td>\n",
       "      <td>0.0</td>\n",
       "      <td>0.0</td>\n",
       "      <td>0.0</td>\n",
       "      <td>0.0</td>\n",
       "      <td>0.0</td>\n",
       "      <td>0.0</td>\n",
       "      <td>0.0</td>\n",
       "      <td>0.0</td>\n",
       "      <td>0.0</td>\n",
       "    </tr>\n",
       "    <tr>\n",
       "      <th>1</th>\n",
       "      <td>282800.0</td>\n",
       "      <td>Orange_Juice</td>\n",
       "      <td>Fruitbat Factory</td>\n",
       "      <td>0.0</td>\n",
       "      <td>0.0</td>\n",
       "      <td>0</td>\n",
       "      <td>1</td>\n",
       "      <td>0</td>\n",
       "      <td>0.0</td>\n",
       "      <td>0</td>\n",
       "      <td>...</td>\n",
       "      <td>0.0</td>\n",
       "      <td>0.0</td>\n",
       "      <td>0.0</td>\n",
       "      <td>0.0</td>\n",
       "      <td>0.0</td>\n",
       "      <td>0.0</td>\n",
       "      <td>0.0</td>\n",
       "      <td>0.0</td>\n",
       "      <td>0.0</td>\n",
       "      <td>0.0</td>\n",
       "    </tr>\n",
       "    <tr>\n",
       "      <th>2</th>\n",
       "      <td>282800.0</td>\n",
       "      <td>Orange_Juice</td>\n",
       "      <td>Fruitbat Factory</td>\n",
       "      <td>0.0</td>\n",
       "      <td>0.0</td>\n",
       "      <td>0</td>\n",
       "      <td>1</td>\n",
       "      <td>0</td>\n",
       "      <td>0.0</td>\n",
       "      <td>0</td>\n",
       "      <td>...</td>\n",
       "      <td>0.0</td>\n",
       "      <td>0.0</td>\n",
       "      <td>0.0</td>\n",
       "      <td>0.0</td>\n",
       "      <td>0.0</td>\n",
       "      <td>0.0</td>\n",
       "      <td>0.0</td>\n",
       "      <td>0.0</td>\n",
       "      <td>0.0</td>\n",
       "      <td>0.0</td>\n",
       "    </tr>\n",
       "    <tr>\n",
       "      <th>3</th>\n",
       "      <td>282800.0</td>\n",
       "      <td>Orange_Juice</td>\n",
       "      <td>Fruitbat Factory</td>\n",
       "      <td>0.0</td>\n",
       "      <td>0.0</td>\n",
       "      <td>0</td>\n",
       "      <td>1</td>\n",
       "      <td>0</td>\n",
       "      <td>0.0</td>\n",
       "      <td>0</td>\n",
       "      <td>...</td>\n",
       "      <td>0.0</td>\n",
       "      <td>0.0</td>\n",
       "      <td>0.0</td>\n",
       "      <td>0.0</td>\n",
       "      <td>0.0</td>\n",
       "      <td>0.0</td>\n",
       "      <td>0.0</td>\n",
       "      <td>0.0</td>\n",
       "      <td>0.0</td>\n",
       "      <td>0.0</td>\n",
       "    </tr>\n",
       "    <tr>\n",
       "      <th>4</th>\n",
       "      <td>282800.0</td>\n",
       "      <td>Orange_Juice</td>\n",
       "      <td>Fruitbat Factory</td>\n",
       "      <td>0.0</td>\n",
       "      <td>0.0</td>\n",
       "      <td>0</td>\n",
       "      <td>1</td>\n",
       "      <td>0</td>\n",
       "      <td>0.0</td>\n",
       "      <td>0</td>\n",
       "      <td>...</td>\n",
       "      <td>0.0</td>\n",
       "      <td>0.0</td>\n",
       "      <td>0.0</td>\n",
       "      <td>0.0</td>\n",
       "      <td>0.0</td>\n",
       "      <td>0.0</td>\n",
       "      <td>0.0</td>\n",
       "      <td>0.0</td>\n",
       "      <td>0.0</td>\n",
       "      <td>0.0</td>\n",
       "    </tr>\n",
       "  </tbody>\n",
       "</table>\n",
       "<p>5 rows × 384 columns</p>\n",
       "</div>"
      ],
      "text/plain": [
       "      appid     developer         publisher  1980s  1990's  2.5D  2D  \\\n",
       "0  282800.0  Orange_Juice  Fruitbat Factory    0.0     0.0     0   1   \n",
       "1  282800.0  Orange_Juice  Fruitbat Factory    0.0     0.0     0   1   \n",
       "2  282800.0  Orange_Juice  Fruitbat Factory    0.0     0.0     0   1   \n",
       "3  282800.0  Orange_Juice  Fruitbat Factory    0.0     0.0     0   1   \n",
       "4  282800.0  Orange_Juice  Fruitbat Factory    0.0     0.0     0   1   \n",
       "\n",
       "   2D Fighter  2D Platformer  3D  ...  Snow  Snowboarding  Social Deduction  \\\n",
       "0           0            0.0   0  ...   0.0           0.0               0.0   \n",
       "1           0            0.0   0  ...   0.0           0.0               0.0   \n",
       "2           0            0.0   0  ...   0.0           0.0               0.0   \n",
       "3           0            0.0   0  ...   0.0           0.0               0.0   \n",
       "4           0            0.0   0  ...   0.0           0.0               0.0   \n",
       "\n",
       "   Video Production  Vikings  Warhammer 40K  Werewolves  Bikes  Card Battler  \\\n",
       "0               0.0      0.0            0.0         0.0    0.0           0.0   \n",
       "1               0.0      0.0            0.0         0.0    0.0           0.0   \n",
       "2               0.0      0.0            0.0         0.0    0.0           0.0   \n",
       "3               0.0      0.0            0.0         0.0    0.0           0.0   \n",
       "4               0.0      0.0            0.0         0.0    0.0           0.0   \n",
       "\n",
       "   Deckbuilding  \n",
       "0           0.0  \n",
       "1           0.0  \n",
       "2           0.0  \n",
       "3           0.0  \n",
       "4           0.0  \n",
       "\n",
       "[5 rows x 384 columns]"
      ]
     },
     "execution_count": 441,
     "metadata": {},
     "output_type": "execute_result"
    }
   ],
   "source": [
    "FeatureDF = dfReduced.drop(columns=['userID', 'gameName', 'playHours', 'rating', 'split'])\n",
    "FeatureDF.fillna(value=0, inplace=True)\n",
    "FeatureDF.head()"
   ]
  },
  {
   "cell_type": "code",
   "execution_count": 442,
   "id": "0ec03102",
   "metadata": {},
   "outputs": [],
   "source": [
    "FeatureDF.drop_duplicates(subset=['appid'], inplace=True)"
   ]
  },
  {
   "cell_type": "code",
   "execution_count": 443,
   "id": "a5a15bcd",
   "metadata": {},
   "outputs": [],
   "source": [
    "developers = pd.get_dummies(FeatureDF['developer'])\n",
    "publishers = pd.get_dummies(FeatureDF['publisher'])"
   ]
  },
  {
   "cell_type": "code",
   "execution_count": 444,
   "id": "f9df95df",
   "metadata": {},
   "outputs": [
    {
     "data": {
      "text/html": [
       "<div>\n",
       "<style scoped>\n",
       "    .dataframe tbody tr th:only-of-type {\n",
       "        vertical-align: middle;\n",
       "    }\n",
       "\n",
       "    .dataframe tbody tr th {\n",
       "        vertical-align: top;\n",
       "    }\n",
       "\n",
       "    .dataframe thead th {\n",
       "        text-align: right;\n",
       "    }\n",
       "</style>\n",
       "<table border=\"1\" class=\"dataframe\">\n",
       "  <thead>\n",
       "    <tr style=\"text-align: right;\">\n",
       "      <th></th>\n",
       "      <th>1980s</th>\n",
       "      <th>1990's</th>\n",
       "      <th>2.5D</th>\n",
       "      <th>2D</th>\n",
       "      <th>2D Fighter</th>\n",
       "      <th>2D Platformer</th>\n",
       "      <th>3D</th>\n",
       "      <th>3D Platformer</th>\n",
       "      <th>3D Vision</th>\n",
       "      <th>4 Player Local</th>\n",
       "      <th>...</th>\n",
       "      <th>Winged Cloud</th>\n",
       "      <th>Wizards of the Coast LLC</th>\n",
       "      <th>Wolfire Games</th>\n",
       "      <th>Xbox Game Studios</th>\n",
       "      <th>Young Horses</th>\n",
       "      <th>Zachtronics</th>\n",
       "      <th>gamigo US Inc.</th>\n",
       "      <th>inXile Entertainment</th>\n",
       "      <th>tinyBuild</th>\n",
       "      <th>tobyfox</th>\n",
       "    </tr>\n",
       "    <tr>\n",
       "      <th>appid</th>\n",
       "      <th></th>\n",
       "      <th></th>\n",
       "      <th></th>\n",
       "      <th></th>\n",
       "      <th></th>\n",
       "      <th></th>\n",
       "      <th></th>\n",
       "      <th></th>\n",
       "      <th></th>\n",
       "      <th></th>\n",
       "      <th></th>\n",
       "      <th></th>\n",
       "      <th></th>\n",
       "      <th></th>\n",
       "      <th></th>\n",
       "      <th></th>\n",
       "      <th></th>\n",
       "      <th></th>\n",
       "      <th></th>\n",
       "      <th></th>\n",
       "      <th></th>\n",
       "    </tr>\n",
       "  </thead>\n",
       "  <tbody>\n",
       "    <tr>\n",
       "      <th>282800.0</th>\n",
       "      <td>0.0</td>\n",
       "      <td>0.0</td>\n",
       "      <td>0</td>\n",
       "      <td>1</td>\n",
       "      <td>0</td>\n",
       "      <td>0.0</td>\n",
       "      <td>0</td>\n",
       "      <td>0</td>\n",
       "      <td>0</td>\n",
       "      <td>0.0</td>\n",
       "      <td>...</td>\n",
       "      <td>0</td>\n",
       "      <td>0</td>\n",
       "      <td>0</td>\n",
       "      <td>0</td>\n",
       "      <td>0</td>\n",
       "      <td>0</td>\n",
       "      <td>0</td>\n",
       "      <td>0</td>\n",
       "      <td>0</td>\n",
       "      <td>0</td>\n",
       "    </tr>\n",
       "    <tr>\n",
       "      <th>251570.0</th>\n",
       "      <td>0.0</td>\n",
       "      <td>0.0</td>\n",
       "      <td>0</td>\n",
       "      <td>0</td>\n",
       "      <td>0</td>\n",
       "      <td>0.0</td>\n",
       "      <td>0</td>\n",
       "      <td>0</td>\n",
       "      <td>0</td>\n",
       "      <td>0.0</td>\n",
       "      <td>...</td>\n",
       "      <td>0</td>\n",
       "      <td>0</td>\n",
       "      <td>0</td>\n",
       "      <td>0</td>\n",
       "      <td>0</td>\n",
       "      <td>0</td>\n",
       "      <td>0</td>\n",
       "      <td>0</td>\n",
       "      <td>0</td>\n",
       "      <td>0</td>\n",
       "    </tr>\n",
       "    <tr>\n",
       "      <th>250420.0</th>\n",
       "      <td>0.0</td>\n",
       "      <td>0.0</td>\n",
       "      <td>0</td>\n",
       "      <td>1</td>\n",
       "      <td>0</td>\n",
       "      <td>0.0</td>\n",
       "      <td>0</td>\n",
       "      <td>0</td>\n",
       "      <td>0</td>\n",
       "      <td>0.0</td>\n",
       "      <td>...</td>\n",
       "      <td>0</td>\n",
       "      <td>0</td>\n",
       "      <td>0</td>\n",
       "      <td>0</td>\n",
       "      <td>0</td>\n",
       "      <td>0</td>\n",
       "      <td>0</td>\n",
       "      <td>0</td>\n",
       "      <td>0</td>\n",
       "      <td>0</td>\n",
       "    </tr>\n",
       "    <tr>\n",
       "      <th>278360.0</th>\n",
       "      <td>0.0</td>\n",
       "      <td>0.0</td>\n",
       "      <td>0</td>\n",
       "      <td>0</td>\n",
       "      <td>0</td>\n",
       "      <td>0.0</td>\n",
       "      <td>0</td>\n",
       "      <td>1</td>\n",
       "      <td>0</td>\n",
       "      <td>0.0</td>\n",
       "      <td>...</td>\n",
       "      <td>0</td>\n",
       "      <td>0</td>\n",
       "      <td>0</td>\n",
       "      <td>0</td>\n",
       "      <td>0</td>\n",
       "      <td>0</td>\n",
       "      <td>0</td>\n",
       "      <td>0</td>\n",
       "      <td>0</td>\n",
       "      <td>0</td>\n",
       "    </tr>\n",
       "    <tr>\n",
       "      <th>224540.0</th>\n",
       "      <td>0.0</td>\n",
       "      <td>0.0</td>\n",
       "      <td>0</td>\n",
       "      <td>0</td>\n",
       "      <td>0</td>\n",
       "      <td>0.0</td>\n",
       "      <td>0</td>\n",
       "      <td>0</td>\n",
       "      <td>0</td>\n",
       "      <td>0.0</td>\n",
       "      <td>...</td>\n",
       "      <td>0</td>\n",
       "      <td>0</td>\n",
       "      <td>0</td>\n",
       "      <td>0</td>\n",
       "      <td>0</td>\n",
       "      <td>0</td>\n",
       "      <td>0</td>\n",
       "      <td>0</td>\n",
       "      <td>0</td>\n",
       "      <td>0</td>\n",
       "    </tr>\n",
       "  </tbody>\n",
       "</table>\n",
       "<p>5 rows × 1088 columns</p>\n",
       "</div>"
      ],
      "text/plain": [
       "          1980s  1990's  2.5D  2D  2D Fighter  2D Platformer  3D  \\\n",
       "appid                                                              \n",
       "282800.0    0.0     0.0     0   1           0            0.0   0   \n",
       "251570.0    0.0     0.0     0   0           0            0.0   0   \n",
       "250420.0    0.0     0.0     0   1           0            0.0   0   \n",
       "278360.0    0.0     0.0     0   0           0            0.0   0   \n",
       "224540.0    0.0     0.0     0   0           0            0.0   0   \n",
       "\n",
       "          3D Platformer  3D Vision  4 Player Local  ...  Winged Cloud  \\\n",
       "appid                                               ...                 \n",
       "282800.0              0          0             0.0  ...             0   \n",
       "251570.0              0          0             0.0  ...             0   \n",
       "250420.0              0          0             0.0  ...             0   \n",
       "278360.0              1          0             0.0  ...             0   \n",
       "224540.0              0          0             0.0  ...             0   \n",
       "\n",
       "          Wizards of the Coast LLC  Wolfire Games  Xbox Game Studios  \\\n",
       "appid                                                                  \n",
       "282800.0                         0              0                  0   \n",
       "251570.0                         0              0                  0   \n",
       "250420.0                         0              0                  0   \n",
       "278360.0                         0              0                  0   \n",
       "224540.0                         0              0                  0   \n",
       "\n",
       "          Young Horses  Zachtronics  gamigo US Inc.  inXile Entertainment  \\\n",
       "appid                                                                       \n",
       "282800.0             0            0               0                     0   \n",
       "251570.0             0            0               0                     0   \n",
       "250420.0             0            0               0                     0   \n",
       "278360.0             0            0               0                     0   \n",
       "224540.0             0            0               0                     0   \n",
       "\n",
       "          tinyBuild  tobyfox  \n",
       "appid                         \n",
       "282800.0          0        0  \n",
       "251570.0          0        0  \n",
       "250420.0          0        0  \n",
       "278360.0          0        0  \n",
       "224540.0          0        0  \n",
       "\n",
       "[5 rows x 1088 columns]"
      ]
     },
     "execution_count": 444,
     "metadata": {},
     "output_type": "execute_result"
    }
   ],
   "source": [
    "FeatureDF = pd.concat([FeatureDF, developers, publishers], axis=1)\n",
    "FeatureDF.drop(columns=['developer', 'publisher'], inplace=True)\n",
    "FeatureDF.index = FeatureDF['appid']\n",
    "FeatureDF.drop(columns=['appid'], inplace=True)\n",
    "FeatureDF.head()"
   ]
  },
  {
   "cell_type": "code",
   "execution_count": 445,
   "id": "3a8312c3",
   "metadata": {},
   "outputs": [
    {
     "data": {
      "text/plain": [
       "(619, 1088)"
      ]
     },
     "execution_count": 445,
     "metadata": {},
     "output_type": "execute_result"
    }
   ],
   "source": [
    "FeatureDF.shape"
   ]
  },
  {
   "cell_type": "code",
   "execution_count": null,
   "id": "a43612b6",
   "metadata": {},
   "outputs": [],
   "source": []
  },
  {
   "cell_type": "markdown",
   "id": "611f643b",
   "metadata": {},
   "source": [
    "#### Now convert the interaction and feature maticies into scipy sparce matricies for modeling\n",
    "Interactions need to be a coo_matrix and features a csr_matrix"
   ]
  },
  {
   "cell_type": "code",
   "execution_count": 446,
   "id": "6f7f9d62",
   "metadata": {},
   "outputs": [],
   "source": [
    "SparceInteractions_train = scipy.sparse.coo_matrix(TrainInteractionsMatrix)\n",
    "SparceInteractions_test = scipy.sparse.coo_matrix(TestInteractionsMatrix)\n",
    "\n",
    "SparceFeatures = scipy.sparse.csr_matrix(FeatureDF.values)"
   ]
  },
  {
   "cell_type": "code",
   "execution_count": null,
   "id": "fef344a9",
   "metadata": {
    "scrolled": false
   },
   "outputs": [],
   "source": []
  },
  {
   "cell_type": "markdown",
   "id": "62d845b4",
   "metadata": {},
   "source": [
    "#### Perform Grid Search to determine best hyper parameters\n",
    "Define class for grid search and CV of LightFM model."
   ]
  },
  {
   "cell_type": "code",
   "execution_count": 447,
   "id": "bfd776de",
   "metadata": {},
   "outputs": [],
   "source": [
    "class LFMGridSearchCV:\n",
    "    def __init__(self, interactions, parameters, itemFeatures=None):\n",
    "        \n",
    "        self.model = None\n",
    "        self.parameters = parameters\n",
    "        self.interactions = interactions\n",
    "        self.train = None\n",
    "        self.test = None\n",
    "        self.itemFeatures = itemFeatures\n",
    "        self.metrics = {'precision@K':[], 'auc':[]}\n",
    "        self.aggregate_metrics = {'precision@K':[], 'auc':[]}\n",
    "        \n",
    "    def split(self):\n",
    "        '''Uses LighFMs random_train_test_split function to split data into train/test sets for each fold'''\n",
    "        self.train, self.test = random_train_test_split(self.interactions, random_state=42)\n",
    "        \n",
    "        \n",
    "    def CV(self, parameters):\n",
    "        '''Define, fit, and compute metrics for each fold'''\n",
    "        self.model = lt.LightFM(no_components=parameters[0],\n",
    "                                loss=parameters[1],\n",
    "                                learning_schedule=parameters[2],\n",
    "                                user_alpha=parameters[3],\n",
    "                                item_alpha = parameters[4],\n",
    "                                learning_rate=parameters[5],\n",
    "                                random_state=42)\n",
    "        \n",
    "        self.model.fit(self.train, item_features=self.itemFeatures, epochs=10)\n",
    "        \n",
    "        self.metrics['precision@K'].append(precision_at_k(self.model, self.test, item_features=self.itemFeatures, k=10))\n",
    "        self.metrics['auc'].append(auc_score(self.model, self.test, item_features=self.itemFeatures,))\n",
    "    \n",
    "    \n",
    "    def GridSearch(self):\n",
    "        '''\n",
    "        Iterate through each set of input parameters and preform 5-fold CV. Agregate metircs accross all 5 folds for each\n",
    "        set of parameters.\n",
    "        '''\n",
    "        for i in self.parameters:\n",
    "        \n",
    "            self.metrics = {'precision@K':[], 'auc':[]}\n",
    "        \n",
    "            for j in range(5):\n",
    "                self.split()\n",
    "                self.CV(i)\n",
    "            \n",
    "            self.aggregate_metrics['auc'].append(np.mean(self.metrics['auc']))\n",
    "            self.aggregate_metrics['precision@K'].append(np.mean(self.metrics['precision@K']))\n",
    "            "
   ]
  },
  {
   "cell_type": "code",
   "execution_count": 448,
   "id": "18aae7cd",
   "metadata": {},
   "outputs": [],
   "source": [
    "# List of parameters for grid search\n",
    "no_components = [30, 32, 34, 36, 38, 40]\n",
    "loss = ['warp']\n",
    "learning_schedule = ['adagrad']\n",
    "user_alpha = [1e-3]\n",
    "item_alpha = [1e-3]\n",
    "learning_rate = [0.01, 0.02, 0.03, 0.04]\n",
    "\n",
    "parameters = list(product(no_components, loss, learning_schedule, user_alpha, item_alpha, learning_rate))"
   ]
  },
  {
   "cell_type": "code",
   "execution_count": 449,
   "id": "e651b63c",
   "metadata": {},
   "outputs": [
    {
     "name": "stdout",
     "output_type": "stream",
     "text": [
      "Wall time: 5min 45s\n"
     ]
    }
   ],
   "source": [
    "%%time\n",
    "# Grid Search with just collaborative filtering\n",
    "LFMSearch = LFMGridSearchCV(SparceInteractions_train, parameters)\n",
    "LFMSearch.GridSearch()"
   ]
  },
  {
   "cell_type": "code",
   "execution_count": 450,
   "id": "0b88737a",
   "metadata": {},
   "outputs": [],
   "source": [
    "metrics = LFMSearch.aggregate_metrics\n",
    "metrics['params'] = LFMSearch.parameters\n",
    "\n",
    "metricsDF = pd.DataFrame(metrics)"
   ]
  },
  {
   "cell_type": "code",
   "execution_count": 451,
   "id": "a298e0fe",
   "metadata": {},
   "outputs": [
    {
     "data": {
      "text/html": [
       "<div>\n",
       "<style scoped>\n",
       "    .dataframe tbody tr th:only-of-type {\n",
       "        vertical-align: middle;\n",
       "    }\n",
       "\n",
       "    .dataframe tbody tr th {\n",
       "        vertical-align: top;\n",
       "    }\n",
       "\n",
       "    .dataframe thead th {\n",
       "        text-align: right;\n",
       "    }\n",
       "</style>\n",
       "<table border=\"1\" class=\"dataframe\">\n",
       "  <thead>\n",
       "    <tr style=\"text-align: right;\">\n",
       "      <th></th>\n",
       "      <th>precision@K</th>\n",
       "      <th>auc</th>\n",
       "      <th>params</th>\n",
       "    </tr>\n",
       "  </thead>\n",
       "  <tbody>\n",
       "    <tr>\n",
       "      <th>6</th>\n",
       "      <td>0.095082</td>\n",
       "      <td>0.766007</td>\n",
       "      <td>(32, warp, adagrad, 0.001, 0, 0.03)</td>\n",
       "    </tr>\n",
       "    <tr>\n",
       "      <th>22</th>\n",
       "      <td>0.094317</td>\n",
       "      <td>0.771048</td>\n",
       "      <td>(40, warp, adagrad, 0.001, 0, 0.03)</td>\n",
       "    </tr>\n",
       "    <tr>\n",
       "      <th>10</th>\n",
       "      <td>0.093989</td>\n",
       "      <td>0.764793</td>\n",
       "      <td>(34, warp, adagrad, 0.001, 0, 0.03)</td>\n",
       "    </tr>\n",
       "    <tr>\n",
       "      <th>21</th>\n",
       "      <td>0.093661</td>\n",
       "      <td>0.750405</td>\n",
       "      <td>(40, warp, adagrad, 0.001, 0, 0.02)</td>\n",
       "    </tr>\n",
       "    <tr>\n",
       "      <th>17</th>\n",
       "      <td>0.093552</td>\n",
       "      <td>0.749764</td>\n",
       "      <td>(38, warp, adagrad, 0.001, 0, 0.02)</td>\n",
       "    </tr>\n",
       "    <tr>\n",
       "      <th>5</th>\n",
       "      <td>0.093552</td>\n",
       "      <td>0.741065</td>\n",
       "      <td>(32, warp, adagrad, 0.001, 0, 0.02)</td>\n",
       "    </tr>\n",
       "    <tr>\n",
       "      <th>14</th>\n",
       "      <td>0.093552</td>\n",
       "      <td>0.767693</td>\n",
       "      <td>(36, warp, adagrad, 0.001, 0, 0.03)</td>\n",
       "    </tr>\n",
       "    <tr>\n",
       "      <th>13</th>\n",
       "      <td>0.093115</td>\n",
       "      <td>0.746733</td>\n",
       "      <td>(36, warp, adagrad, 0.001, 0, 0.02)</td>\n",
       "    </tr>\n",
       "    <tr>\n",
       "      <th>2</th>\n",
       "      <td>0.092896</td>\n",
       "      <td>0.763896</td>\n",
       "      <td>(30, warp, adagrad, 0.001, 0, 0.03)</td>\n",
       "    </tr>\n",
       "    <tr>\n",
       "      <th>9</th>\n",
       "      <td>0.092896</td>\n",
       "      <td>0.746339</td>\n",
       "      <td>(34, warp, adagrad, 0.001, 0, 0.02)</td>\n",
       "    </tr>\n",
       "    <tr>\n",
       "      <th>18</th>\n",
       "      <td>0.092568</td>\n",
       "      <td>0.769221</td>\n",
       "      <td>(38, warp, adagrad, 0.001, 0, 0.03)</td>\n",
       "    </tr>\n",
       "    <tr>\n",
       "      <th>7</th>\n",
       "      <td>0.090929</td>\n",
       "      <td>0.772633</td>\n",
       "      <td>(32, warp, adagrad, 0.001, 0, 0.04)</td>\n",
       "    </tr>\n",
       "    <tr>\n",
       "      <th>1</th>\n",
       "      <td>0.090820</td>\n",
       "      <td>0.741809</td>\n",
       "      <td>(30, warp, adagrad, 0.001, 0, 0.02)</td>\n",
       "    </tr>\n",
       "    <tr>\n",
       "      <th>19</th>\n",
       "      <td>0.089508</td>\n",
       "      <td>0.778543</td>\n",
       "      <td>(38, warp, adagrad, 0.001, 0, 0.04)</td>\n",
       "    </tr>\n",
       "    <tr>\n",
       "      <th>11</th>\n",
       "      <td>0.089508</td>\n",
       "      <td>0.775503</td>\n",
       "      <td>(34, warp, adagrad, 0.001, 0, 0.04)</td>\n",
       "    </tr>\n",
       "    <tr>\n",
       "      <th>23</th>\n",
       "      <td>0.088415</td>\n",
       "      <td>0.779758</td>\n",
       "      <td>(40, warp, adagrad, 0.001, 0, 0.04)</td>\n",
       "    </tr>\n",
       "    <tr>\n",
       "      <th>15</th>\n",
       "      <td>0.087432</td>\n",
       "      <td>0.776960</td>\n",
       "      <td>(36, warp, adagrad, 0.001, 0, 0.04)</td>\n",
       "    </tr>\n",
       "    <tr>\n",
       "      <th>3</th>\n",
       "      <td>0.086885</td>\n",
       "      <td>0.776346</td>\n",
       "      <td>(30, warp, adagrad, 0.001, 0, 0.04)</td>\n",
       "    </tr>\n",
       "    <tr>\n",
       "      <th>20</th>\n",
       "      <td>0.086120</td>\n",
       "      <td>0.715685</td>\n",
       "      <td>(40, warp, adagrad, 0.001, 0, 0.01)</td>\n",
       "    </tr>\n",
       "    <tr>\n",
       "      <th>4</th>\n",
       "      <td>0.085355</td>\n",
       "      <td>0.708968</td>\n",
       "      <td>(32, warp, adagrad, 0.001, 0, 0.01)</td>\n",
       "    </tr>\n",
       "    <tr>\n",
       "      <th>16</th>\n",
       "      <td>0.085137</td>\n",
       "      <td>0.712449</td>\n",
       "      <td>(38, warp, adagrad, 0.001, 0, 0.01)</td>\n",
       "    </tr>\n",
       "    <tr>\n",
       "      <th>12</th>\n",
       "      <td>0.084918</td>\n",
       "      <td>0.709941</td>\n",
       "      <td>(36, warp, adagrad, 0.001, 0, 0.01)</td>\n",
       "    </tr>\n",
       "    <tr>\n",
       "      <th>0</th>\n",
       "      <td>0.084918</td>\n",
       "      <td>0.709095</td>\n",
       "      <td>(30, warp, adagrad, 0.001, 0, 0.01)</td>\n",
       "    </tr>\n",
       "    <tr>\n",
       "      <th>8</th>\n",
       "      <td>0.084809</td>\n",
       "      <td>0.708690</td>\n",
       "      <td>(34, warp, adagrad, 0.001, 0, 0.01)</td>\n",
       "    </tr>\n",
       "  </tbody>\n",
       "</table>\n",
       "</div>"
      ],
      "text/plain": [
       "    precision@K       auc                               params\n",
       "6      0.095082  0.766007  (32, warp, adagrad, 0.001, 0, 0.03)\n",
       "22     0.094317  0.771048  (40, warp, adagrad, 0.001, 0, 0.03)\n",
       "10     0.093989  0.764793  (34, warp, adagrad, 0.001, 0, 0.03)\n",
       "21     0.093661  0.750405  (40, warp, adagrad, 0.001, 0, 0.02)\n",
       "17     0.093552  0.749764  (38, warp, adagrad, 0.001, 0, 0.02)\n",
       "5      0.093552  0.741065  (32, warp, adagrad, 0.001, 0, 0.02)\n",
       "14     0.093552  0.767693  (36, warp, adagrad, 0.001, 0, 0.03)\n",
       "13     0.093115  0.746733  (36, warp, adagrad, 0.001, 0, 0.02)\n",
       "2      0.092896  0.763896  (30, warp, adagrad, 0.001, 0, 0.03)\n",
       "9      0.092896  0.746339  (34, warp, adagrad, 0.001, 0, 0.02)\n",
       "18     0.092568  0.769221  (38, warp, adagrad, 0.001, 0, 0.03)\n",
       "7      0.090929  0.772633  (32, warp, adagrad, 0.001, 0, 0.04)\n",
       "1      0.090820  0.741809  (30, warp, adagrad, 0.001, 0, 0.02)\n",
       "19     0.089508  0.778543  (38, warp, adagrad, 0.001, 0, 0.04)\n",
       "11     0.089508  0.775503  (34, warp, adagrad, 0.001, 0, 0.04)\n",
       "23     0.088415  0.779758  (40, warp, adagrad, 0.001, 0, 0.04)\n",
       "15     0.087432  0.776960  (36, warp, adagrad, 0.001, 0, 0.04)\n",
       "3      0.086885  0.776346  (30, warp, adagrad, 0.001, 0, 0.04)\n",
       "20     0.086120  0.715685  (40, warp, adagrad, 0.001, 0, 0.01)\n",
       "4      0.085355  0.708968  (32, warp, adagrad, 0.001, 0, 0.01)\n",
       "16     0.085137  0.712449  (38, warp, adagrad, 0.001, 0, 0.01)\n",
       "12     0.084918  0.709941  (36, warp, adagrad, 0.001, 0, 0.01)\n",
       "0      0.084918  0.709095  (30, warp, adagrad, 0.001, 0, 0.01)\n",
       "8      0.084809  0.708690  (34, warp, adagrad, 0.001, 0, 0.01)"
      ]
     },
     "execution_count": 451,
     "metadata": {},
     "output_type": "execute_result"
    }
   ],
   "source": [
    "# w/ free\n",
    "metricsDF.sort_values(by='precision@K', ascending=False)"
   ]
  },
  {
   "cell_type": "code",
   "execution_count": 452,
   "id": "fa0950e7",
   "metadata": {},
   "outputs": [
    {
     "data": {
      "text/html": [
       "<div>\n",
       "<style scoped>\n",
       "    .dataframe tbody tr th:only-of-type {\n",
       "        vertical-align: middle;\n",
       "    }\n",
       "\n",
       "    .dataframe tbody tr th {\n",
       "        vertical-align: top;\n",
       "    }\n",
       "\n",
       "    .dataframe thead th {\n",
       "        text-align: right;\n",
       "    }\n",
       "</style>\n",
       "<table border=\"1\" class=\"dataframe\">\n",
       "  <thead>\n",
       "    <tr style=\"text-align: right;\">\n",
       "      <th></th>\n",
       "      <th>precision@K</th>\n",
       "      <th>auc</th>\n",
       "      <th>params</th>\n",
       "    </tr>\n",
       "  </thead>\n",
       "  <tbody>\n",
       "    <tr>\n",
       "      <th>23</th>\n",
       "      <td>0.088415</td>\n",
       "      <td>0.779758</td>\n",
       "      <td>(40, warp, adagrad, 0.001, 0, 0.04)</td>\n",
       "    </tr>\n",
       "    <tr>\n",
       "      <th>19</th>\n",
       "      <td>0.089508</td>\n",
       "      <td>0.778543</td>\n",
       "      <td>(38, warp, adagrad, 0.001, 0, 0.04)</td>\n",
       "    </tr>\n",
       "    <tr>\n",
       "      <th>15</th>\n",
       "      <td>0.087432</td>\n",
       "      <td>0.776960</td>\n",
       "      <td>(36, warp, adagrad, 0.001, 0, 0.04)</td>\n",
       "    </tr>\n",
       "    <tr>\n",
       "      <th>3</th>\n",
       "      <td>0.086885</td>\n",
       "      <td>0.776346</td>\n",
       "      <td>(30, warp, adagrad, 0.001, 0, 0.04)</td>\n",
       "    </tr>\n",
       "    <tr>\n",
       "      <th>11</th>\n",
       "      <td>0.089508</td>\n",
       "      <td>0.775503</td>\n",
       "      <td>(34, warp, adagrad, 0.001, 0, 0.04)</td>\n",
       "    </tr>\n",
       "    <tr>\n",
       "      <th>7</th>\n",
       "      <td>0.090929</td>\n",
       "      <td>0.772633</td>\n",
       "      <td>(32, warp, adagrad, 0.001, 0, 0.04)</td>\n",
       "    </tr>\n",
       "    <tr>\n",
       "      <th>22</th>\n",
       "      <td>0.094317</td>\n",
       "      <td>0.771048</td>\n",
       "      <td>(40, warp, adagrad, 0.001, 0, 0.03)</td>\n",
       "    </tr>\n",
       "    <tr>\n",
       "      <th>18</th>\n",
       "      <td>0.092568</td>\n",
       "      <td>0.769221</td>\n",
       "      <td>(38, warp, adagrad, 0.001, 0, 0.03)</td>\n",
       "    </tr>\n",
       "    <tr>\n",
       "      <th>14</th>\n",
       "      <td>0.093552</td>\n",
       "      <td>0.767693</td>\n",
       "      <td>(36, warp, adagrad, 0.001, 0, 0.03)</td>\n",
       "    </tr>\n",
       "    <tr>\n",
       "      <th>6</th>\n",
       "      <td>0.095082</td>\n",
       "      <td>0.766007</td>\n",
       "      <td>(32, warp, adagrad, 0.001, 0, 0.03)</td>\n",
       "    </tr>\n",
       "    <tr>\n",
       "      <th>10</th>\n",
       "      <td>0.093989</td>\n",
       "      <td>0.764793</td>\n",
       "      <td>(34, warp, adagrad, 0.001, 0, 0.03)</td>\n",
       "    </tr>\n",
       "    <tr>\n",
       "      <th>2</th>\n",
       "      <td>0.092896</td>\n",
       "      <td>0.763896</td>\n",
       "      <td>(30, warp, adagrad, 0.001, 0, 0.03)</td>\n",
       "    </tr>\n",
       "    <tr>\n",
       "      <th>21</th>\n",
       "      <td>0.093661</td>\n",
       "      <td>0.750405</td>\n",
       "      <td>(40, warp, adagrad, 0.001, 0, 0.02)</td>\n",
       "    </tr>\n",
       "    <tr>\n",
       "      <th>17</th>\n",
       "      <td>0.093552</td>\n",
       "      <td>0.749764</td>\n",
       "      <td>(38, warp, adagrad, 0.001, 0, 0.02)</td>\n",
       "    </tr>\n",
       "    <tr>\n",
       "      <th>13</th>\n",
       "      <td>0.093115</td>\n",
       "      <td>0.746733</td>\n",
       "      <td>(36, warp, adagrad, 0.001, 0, 0.02)</td>\n",
       "    </tr>\n",
       "    <tr>\n",
       "      <th>9</th>\n",
       "      <td>0.092896</td>\n",
       "      <td>0.746339</td>\n",
       "      <td>(34, warp, adagrad, 0.001, 0, 0.02)</td>\n",
       "    </tr>\n",
       "    <tr>\n",
       "      <th>1</th>\n",
       "      <td>0.090820</td>\n",
       "      <td>0.741809</td>\n",
       "      <td>(30, warp, adagrad, 0.001, 0, 0.02)</td>\n",
       "    </tr>\n",
       "    <tr>\n",
       "      <th>5</th>\n",
       "      <td>0.093552</td>\n",
       "      <td>0.741065</td>\n",
       "      <td>(32, warp, adagrad, 0.001, 0, 0.02)</td>\n",
       "    </tr>\n",
       "    <tr>\n",
       "      <th>20</th>\n",
       "      <td>0.086120</td>\n",
       "      <td>0.715685</td>\n",
       "      <td>(40, warp, adagrad, 0.001, 0, 0.01)</td>\n",
       "    </tr>\n",
       "    <tr>\n",
       "      <th>16</th>\n",
       "      <td>0.085137</td>\n",
       "      <td>0.712449</td>\n",
       "      <td>(38, warp, adagrad, 0.001, 0, 0.01)</td>\n",
       "    </tr>\n",
       "    <tr>\n",
       "      <th>12</th>\n",
       "      <td>0.084918</td>\n",
       "      <td>0.709941</td>\n",
       "      <td>(36, warp, adagrad, 0.001, 0, 0.01)</td>\n",
       "    </tr>\n",
       "    <tr>\n",
       "      <th>0</th>\n",
       "      <td>0.084918</td>\n",
       "      <td>0.709095</td>\n",
       "      <td>(30, warp, adagrad, 0.001, 0, 0.01)</td>\n",
       "    </tr>\n",
       "    <tr>\n",
       "      <th>4</th>\n",
       "      <td>0.085355</td>\n",
       "      <td>0.708968</td>\n",
       "      <td>(32, warp, adagrad, 0.001, 0, 0.01)</td>\n",
       "    </tr>\n",
       "    <tr>\n",
       "      <th>8</th>\n",
       "      <td>0.084809</td>\n",
       "      <td>0.708690</td>\n",
       "      <td>(34, warp, adagrad, 0.001, 0, 0.01)</td>\n",
       "    </tr>\n",
       "  </tbody>\n",
       "</table>\n",
       "</div>"
      ],
      "text/plain": [
       "    precision@K       auc                               params\n",
       "23     0.088415  0.779758  (40, warp, adagrad, 0.001, 0, 0.04)\n",
       "19     0.089508  0.778543  (38, warp, adagrad, 0.001, 0, 0.04)\n",
       "15     0.087432  0.776960  (36, warp, adagrad, 0.001, 0, 0.04)\n",
       "3      0.086885  0.776346  (30, warp, adagrad, 0.001, 0, 0.04)\n",
       "11     0.089508  0.775503  (34, warp, adagrad, 0.001, 0, 0.04)\n",
       "7      0.090929  0.772633  (32, warp, adagrad, 0.001, 0, 0.04)\n",
       "22     0.094317  0.771048  (40, warp, adagrad, 0.001, 0, 0.03)\n",
       "18     0.092568  0.769221  (38, warp, adagrad, 0.001, 0, 0.03)\n",
       "14     0.093552  0.767693  (36, warp, adagrad, 0.001, 0, 0.03)\n",
       "6      0.095082  0.766007  (32, warp, adagrad, 0.001, 0, 0.03)\n",
       "10     0.093989  0.764793  (34, warp, adagrad, 0.001, 0, 0.03)\n",
       "2      0.092896  0.763896  (30, warp, adagrad, 0.001, 0, 0.03)\n",
       "21     0.093661  0.750405  (40, warp, adagrad, 0.001, 0, 0.02)\n",
       "17     0.093552  0.749764  (38, warp, adagrad, 0.001, 0, 0.02)\n",
       "13     0.093115  0.746733  (36, warp, adagrad, 0.001, 0, 0.02)\n",
       "9      0.092896  0.746339  (34, warp, adagrad, 0.001, 0, 0.02)\n",
       "1      0.090820  0.741809  (30, warp, adagrad, 0.001, 0, 0.02)\n",
       "5      0.093552  0.741065  (32, warp, adagrad, 0.001, 0, 0.02)\n",
       "20     0.086120  0.715685  (40, warp, adagrad, 0.001, 0, 0.01)\n",
       "16     0.085137  0.712449  (38, warp, adagrad, 0.001, 0, 0.01)\n",
       "12     0.084918  0.709941  (36, warp, adagrad, 0.001, 0, 0.01)\n",
       "0      0.084918  0.709095  (30, warp, adagrad, 0.001, 0, 0.01)\n",
       "4      0.085355  0.708968  (32, warp, adagrad, 0.001, 0, 0.01)\n",
       "8      0.084809  0.708690  (34, warp, adagrad, 0.001, 0, 0.01)"
      ]
     },
     "execution_count": 452,
     "metadata": {},
     "output_type": "execute_result"
    }
   ],
   "source": [
    "metricsDF.sort_values(by='auc', ascending=False)"
   ]
  },
  {
   "cell_type": "code",
   "execution_count": null,
   "id": "9369e332",
   "metadata": {},
   "outputs": [],
   "source": []
  },
  {
   "cell_type": "code",
   "execution_count": 344,
   "id": "cf5cfa92",
   "metadata": {
    "scrolled": true
   },
   "outputs": [
    {
     "name": "stdout",
     "output_type": "stream",
     "text": [
      "Wall time: 1h 27min 8s\n"
     ]
    },
    {
     "data": {
      "text/html": [
       "<div>\n",
       "<style scoped>\n",
       "    .dataframe tbody tr th:only-of-type {\n",
       "        vertical-align: middle;\n",
       "    }\n",
       "\n",
       "    .dataframe tbody tr th {\n",
       "        vertical-align: top;\n",
       "    }\n",
       "\n",
       "    .dataframe thead th {\n",
       "        text-align: right;\n",
       "    }\n",
       "</style>\n",
       "<table border=\"1\" class=\"dataframe\">\n",
       "  <thead>\n",
       "    <tr style=\"text-align: right;\">\n",
       "      <th></th>\n",
       "      <th>precision@K</th>\n",
       "      <th>auc</th>\n",
       "      <th>params</th>\n",
       "    </tr>\n",
       "  </thead>\n",
       "  <tbody>\n",
       "    <tr>\n",
       "      <th>8</th>\n",
       "      <td>0.077158</td>\n",
       "      <td>0.684151</td>\n",
       "      <td>(10, warp, adagrad, 0.001, 0, 0.01)</td>\n",
       "    </tr>\n",
       "    <tr>\n",
       "      <th>11</th>\n",
       "      <td>0.077049</td>\n",
       "      <td>0.712516</td>\n",
       "      <td>(10, warp, adagrad, 0.001, 0, 0.04)</td>\n",
       "    </tr>\n",
       "    <tr>\n",
       "      <th>15</th>\n",
       "      <td>0.077049</td>\n",
       "      <td>0.700555</td>\n",
       "      <td>(10, warp, adagrad, 0.001, 0.001, 0.04)</td>\n",
       "    </tr>\n",
       "    <tr>\n",
       "      <th>6</th>\n",
       "      <td>0.076831</td>\n",
       "      <td>0.699973</td>\n",
       "      <td>(10, warp, adagrad, 0, 0.001, 0.03)</td>\n",
       "    </tr>\n",
       "    <tr>\n",
       "      <th>10</th>\n",
       "      <td>0.076721</td>\n",
       "      <td>0.706897</td>\n",
       "      <td>(10, warp, adagrad, 0.001, 0, 0.03)</td>\n",
       "    </tr>\n",
       "    <tr>\n",
       "      <th>...</th>\n",
       "      <td>...</td>\n",
       "      <td>...</td>\n",
       "      <td>...</td>\n",
       "    </tr>\n",
       "    <tr>\n",
       "      <th>63</th>\n",
       "      <td>0.055847</td>\n",
       "      <td>0.708711</td>\n",
       "      <td>(40, warp, adagrad, 0.001, 0.001, 0.04)</td>\n",
       "    </tr>\n",
       "    <tr>\n",
       "      <th>50</th>\n",
       "      <td>0.054536</td>\n",
       "      <td>0.703656</td>\n",
       "      <td>(40, warp, adagrad, 0, 0, 0.03)</td>\n",
       "    </tr>\n",
       "    <tr>\n",
       "      <th>59</th>\n",
       "      <td>0.053661</td>\n",
       "      <td>0.707295</td>\n",
       "      <td>(40, warp, adagrad, 0.001, 0, 0.04)</td>\n",
       "    </tr>\n",
       "    <tr>\n",
       "      <th>55</th>\n",
       "      <td>0.051366</td>\n",
       "      <td>0.703451</td>\n",
       "      <td>(40, warp, adagrad, 0, 0.001, 0.04)</td>\n",
       "    </tr>\n",
       "    <tr>\n",
       "      <th>51</th>\n",
       "      <td>0.050710</td>\n",
       "      <td>0.704377</td>\n",
       "      <td>(40, warp, adagrad, 0, 0, 0.04)</td>\n",
       "    </tr>\n",
       "  </tbody>\n",
       "</table>\n",
       "<p>64 rows × 3 columns</p>\n",
       "</div>"
      ],
      "text/plain": [
       "    precision@K       auc                                   params\n",
       "8      0.077158  0.684151      (10, warp, adagrad, 0.001, 0, 0.01)\n",
       "11     0.077049  0.712516      (10, warp, adagrad, 0.001, 0, 0.04)\n",
       "15     0.077049  0.700555  (10, warp, adagrad, 0.001, 0.001, 0.04)\n",
       "6      0.076831  0.699973      (10, warp, adagrad, 0, 0.001, 0.03)\n",
       "10     0.076721  0.706897      (10, warp, adagrad, 0.001, 0, 0.03)\n",
       "..          ...       ...                                      ...\n",
       "63     0.055847  0.708711  (40, warp, adagrad, 0.001, 0.001, 0.04)\n",
       "50     0.054536  0.703656          (40, warp, adagrad, 0, 0, 0.03)\n",
       "59     0.053661  0.707295      (40, warp, adagrad, 0.001, 0, 0.04)\n",
       "55     0.051366  0.703451      (40, warp, adagrad, 0, 0.001, 0.04)\n",
       "51     0.050710  0.704377          (40, warp, adagrad, 0, 0, 0.04)\n",
       "\n",
       "[64 rows x 3 columns]"
      ]
     },
     "execution_count": 344,
     "metadata": {},
     "output_type": "execute_result"
    }
   ],
   "source": [
    "%%time\n",
    "# Now find best hyperparameters for a model that includes item featrues\n",
    "no_components = [10, 20, 30, 40]\n",
    "loss = ['warp']\n",
    "learning_schedule = ['adagrad']\n",
    "user_alpha = [0, 1e-3]\n",
    "item_alpha = [0, 1e-3]\n",
    "learning_rate = [0.01, 0.02, 0.03, 0.04]\n",
    "\n",
    "parameters = list(product(no_components, loss, learning_schedule, user_alpha, item_alpha, learning_rate))\n",
    "\n",
    "\n",
    "# Grid Search with just collaborative filtering\n",
    "LFMSearch = LFMGridSearchCV(SparceInteractions_train, parameters, itemFeatures=SparceFeatures)\n",
    "LFMSearch.GridSearch()\n",
    "\n",
    "metrics = LFMSearch.aggregate_metrics\n",
    "metrics['params'] = LFMSearch.parameters\n",
    "\n",
    "metricsDF = pd.DataFrame(metrics)\n",
    "\n",
    "metricsDF.sort_values(by='precision@K', ascending=False)"
   ]
  },
  {
   "cell_type": "code",
   "execution_count": null,
   "id": "d592662a",
   "metadata": {},
   "outputs": [],
   "source": []
  },
  {
   "cell_type": "markdown",
   "id": "c44841be",
   "metadata": {},
   "source": [
    "#### Determine best number of epochs for model\n",
    "Run through the models with best sets of parameters for both learning schedules and track both auc and percision@k at each epoch. Then use results to determine best number of epochs for final model."
   ]
  },
  {
   "cell_type": "code",
   "execution_count": 459,
   "id": "5fe53790",
   "metadata": {},
   "outputs": [
    {
     "name": "stdout",
     "output_type": "stream",
     "text": [
      "Wall time: 1min 9s\n"
     ]
    }
   ],
   "source": [
    "%%time\n",
    "\n",
    "epochs=70\n",
    "\n",
    "\n",
    "adagrad_model = lt.LightFM(no_components=32,\n",
    "                        loss='warp',\n",
    "                        learning_schedule='adagrad',\n",
    "                        user_alpha=1e-3,\n",
    "                        item_alpha=1e-3,\n",
    "                        learning_rate=0.03)\n",
    "\n",
    "adadelta_model = lt.LightFM(no_components=32,\n",
    "                        loss='warp',\n",
    "                        learning_schedule='adadelta',\n",
    "                        user_alpha=1e-3,\n",
    "                        item_alpha=1e-3,\n",
    "                        learning_rate=0.03)\n",
    "\n",
    "\n",
    "\n",
    "adagrad_auc = []\n",
    "adagrad_k = []\n",
    "\n",
    "# Run through both models one epoch at a time, and store metric values for plotting. \n",
    "for epoch in range(epochs):\n",
    "    adagrad_model.fit_partial(SparceInteractions_train, epochs=1)\n",
    "    adagrad_auc.append(auc_score(adagrad_model, SparceInteractions_test).mean())\n",
    "    adagrad_k.append(precision_at_k(adagrad_model, SparceInteractions_test).mean())\n",
    "    \n",
    "    \n",
    "adadelta_auc = []\n",
    "adadelta_k = []\n",
    "\n",
    "for epoch in range(epochs):\n",
    "    adadelta_model.fit_partial(SparceInteractions_train, epochs=1)\n",
    "    adadelta_auc.append(auc_score(adadelta_model, SparceInteractions_test).mean())\n",
    "    adadelta_k.append(precision_at_k(adadelta_model, SparceInteractions_test).mean())"
   ]
  },
  {
   "cell_type": "code",
   "execution_count": 460,
   "id": "b6becec7",
   "metadata": {},
   "outputs": [
    {
     "data": {
      "image/png": "[encoded data removed]",
      "text/plain": [
       "<Figure size 432x288 with 1 Axes>"
      ]
     },
     "metadata": {},
     "output_type": "display_data"
    }
   ],
   "source": [
    "x = np.arange(len(adagrad_auc))\n",
    "plt.plot(x, np.array(adagrad_auc))\n",
    "plt.plot(x, np.array(adadelta_auc))\n",
    "plt.legend(['adagrad auc', 'adadelta auc'], loc='lower right')\n",
    "plt.show()"
   ]
  },
  {
   "cell_type": "code",
   "execution_count": 461,
   "id": "215a8f7a",
   "metadata": {},
   "outputs": [
    {
     "data": {
      "image/png": "[encoded data removed]",
      "text/plain": [
       "<Figure size 432x288 with 1 Axes>"
      ]
     },
     "metadata": {},
     "output_type": "display_data"
    }
   ],
   "source": [
    "x = np.arange(len(adagrad_k))\n",
    "plt.plot(x, np.array(adagrad_k))\n",
    "plt.plot(x, np.array(adadelta_k))\n",
    "plt.legend(['adagrad precision@k', 'adadelta precision@k'], loc='lower right')\n",
    "plt.show()"
   ]
  },
  {
   "cell_type": "markdown",
   "id": "230a9c2f",
   "metadata": {},
   "source": [
    "It looks like about 60 epochs provides a good tradeoff between auc and percision@k."
   ]
  },
  {
   "cell_type": "code",
   "execution_count": null,
   "id": "25f33963",
   "metadata": {},
   "outputs": [],
   "source": []
  },
  {
   "cell_type": "markdown",
   "id": "c00bb8ab",
   "metadata": {},
   "source": [
    "#### Prep and fit model\n",
    "Turns out that basic collaborative filtering works better than the hybrid model that incorperates item features. The hybrid model is probably better suited for cold start situations."
   ]
  },
  {
   "cell_type": "code",
   "execution_count": 462,
   "id": "01a71845",
   "metadata": {},
   "outputs": [
    {
     "name": "stdout",
     "output_type": "stream",
     "text": [
      "Wall time: 18.1 s\n"
     ]
    },
    {
     "data": {
      "text/plain": [
       "<lightfm.lightfm.LightFM at 0x1f7cea20340>"
      ]
     },
     "execution_count": 462,
     "metadata": {},
     "output_type": "execute_result"
    }
   ],
   "source": [
    "%%time\n",
    "model = lt.LightFM(loss='warp',\n",
    "                  no_components=32,\n",
    "                  learning_rate=0.03,\n",
    "                  user_alpha=1e-3,\n",
    "                  item_alpha=1e-3,\n",
    "                  random_state=42)\n",
    "\n",
    "model.fit(SparceInteractions_train,\n",
    "          #item_features=SparceFeatures,\n",
    "          epochs=60)"
   ]
  },
  {
   "cell_type": "code",
   "execution_count": 152,
   "id": "5e1cce97",
   "metadata": {},
   "outputs": [],
   "source": [
    "# Evaluate the model (with item features)\n",
    "t = precision_at_k(model, SparceInteractions_test, item_features=SparceFeatures, k=10).mean()\n",
    "a = auc_score(model, SparceInteractions_test, item_features=SparceFeatures).mean()"
   ]
  },
  {
   "cell_type": "code",
   "execution_count": 153,
   "id": "2221519a",
   "metadata": {},
   "outputs": [
    {
     "data": {
      "text/plain": [
       "(0.10337323, 0.7302617)"
      ]
     },
     "execution_count": 153,
     "metadata": {},
     "output_type": "execute_result"
    }
   ],
   "source": [
    "t, a"
   ]
  },
  {
   "cell_type": "code",
   "execution_count": 463,
   "id": "6ce605ac",
   "metadata": {},
   "outputs": [],
   "source": [
    "# Evaluate the model (not item features)\n",
    "t = precision_at_k(model, SparceInteractions_test, k=10).mean()\n",
    "a = auc_score(model, SparceInteractions_test).mean()"
   ]
  },
  {
   "cell_type": "code",
   "execution_count": 464,
   "id": "3d795a0d",
   "metadata": {},
   "outputs": [
    {
     "data": {
      "text/plain": [
       "(0.11490752, 0.8012719)"
      ]
     },
     "execution_count": 464,
     "metadata": {},
     "output_type": "execute_result"
    }
   ],
   "source": [
    "t, a"
   ]
  },
  {
   "cell_type": "code",
   "execution_count": null,
   "id": "601a03c2",
   "metadata": {},
   "outputs": [],
   "source": []
  },
  {
   "cell_type": "markdown",
   "id": "b8c41d71",
   "metadata": {},
   "source": [
    "### Generate User Predictions with LightFM\n",
    "Again I'll generate a list of predictions for myself and five other friends to see how effective the recomendations from LightFM are."
   ]
  },
  {
   "cell_type": "code",
   "execution_count": 272,
   "id": "70b6a46c",
   "metadata": {},
   "outputs": [],
   "source": [
    "def get_user_recommendation(uID, model):\n",
    "    index = allInteractions.loc[:uID[1]].shape[0] - 1\n",
    "    \n",
    "    reco = model.predict(index, np.arange(619))\n",
    "    reco = pd.DataFrame(reco, index=TrainInteractionsMatrix.columns, columns=['pred'])\n",
    "    \n",
    "    mergeDF = LFMdf[['gameName', 'appid']].drop_duplicates()\n",
    "    reco = reco.merge(mergeDF, how='outer', left_on=reco.index, right_on='appid')\n",
    "    \n",
    "    alreadyOwn = dfFull.loc[dfFull.userID==uID[1]]\n",
    "    reco = reco.loc[~reco.appid.isin(alreadyOwn.appid)]\n",
    "    \n",
    "    reco.sort_values(by='pred', ascending=False, inplace=True)\n",
    "    reco['rank'] = np.arange(reco.shape[0])\n",
    "    \n",
    "    \n",
    "    reco.to_csv(\"hybrid{}{}.csv\".format(uID[0], uID[1]))"
   ]
  },
  {
   "cell_type": "code",
   "execution_count": 273,
   "id": "44f073d6",
   "metadata": {},
   "outputs": [],
   "source": [
    "get_user_recommendation(('Me', 76561198050349457), model)"
   ]
  },
  {
   "cell_type": "code",
   "execution_count": 274,
   "id": "3de08e25",
   "metadata": {},
   "outputs": [],
   "source": [
    "uids = [(\"Max\", 76561198043116852), (\"Sam\", 76561198030495862), (\"Flan\", 76561198067694858),\n",
    "        (\"Ben\", 76561198067474658), (\"Julian\", 76561198025619021)]\n",
    "for i in uids:\n",
    "    get_user_recommendation(i, model)"
   ]
  },
  {
   "cell_type": "code",
   "execution_count": null,
   "id": "0a4f9d29",
   "metadata": {},
   "outputs": [],
   "source": []
  },
  {
   "cell_type": "markdown",
   "id": "69c2f853",
   "metadata": {},
   "source": [
    "In the end the basic collaborativ filtering LigthFM model yielded the best results. While I could not directly compare it using metrics to the SVD++ model, there was consistent concensus form the small sample of users who I asked to evaluate the models recommendations that the non hybrid LightFM model performed the best. In the future, it would be a good idea to ask a larger sample of users to rate the models, and find a way to generate auc/precision@k metrics for the suprise library models."
   ]
  }
 ],
 "metadata": {
  "kernelspec": {
   "display_name": "capstone2_venv",
   "language": "python",
   "name": "capstone2_venv"
  },
  "language_info": {
   "codemirror_mode": {
    "name": "ipython",
    "version": 3
   },
   "file_extension": ".py",
   "mimetype": "text/x-python",
   "name": "python",
   "nbconvert_exporter": "python",
   "pygments_lexer": "ipython3",
   "version": "3.9.7"
  },
  "vscode": {
   "interpreter": {
    "hash": "c40bffc5e1f3094dccce16e74277bd4f3a47be7140d1946f25c539d5e02237f4"
   }
  }
 },
 "nbformat": 4,
 "nbformat_minor": 5
}
